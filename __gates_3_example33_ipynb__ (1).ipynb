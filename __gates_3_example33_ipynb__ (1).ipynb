{
  "cells": [
    {
      "cell_type": "code",
      "execution_count": 1,
      "id": "9075248b",
      "metadata": {
        "id": "9075248b"
      },
      "outputs": [],
      "source": [
        "import pandas as pd"
      ]
    },
    {
      "cell_type": "code",
      "execution_count": 2,
      "id": "45efcf23",
      "metadata": {
        "id": "45efcf23"
      },
      "outputs": [],
      "source": [
        "import sklearn; #sklearn.show_versions()"
      ]
    },
    {
      "cell_type": "code",
      "execution_count": 3,
      "id": "62c5c1ad",
      "metadata": {
        "id": "62c5c1ad"
      },
      "outputs": [],
      "source": [
        "from sklearn.linear_model import LogisticRegression"
      ]
    },
    {
      "cell_type": "code",
      "execution_count": 4,
      "id": "f9c7cfa9",
      "metadata": {
        "id": "f9c7cfa9"
      },
      "outputs": [],
      "source": [
        "from sklearn.preprocessing import StandardScaler, PolynomialFeatures"
      ]
    },
    {
      "cell_type": "code",
      "execution_count": 5,
      "id": "cf4fd03d",
      "metadata": {
        "id": "cf4fd03d"
      },
      "outputs": [],
      "source": [
        "import matplotlib.pyplot as plt"
      ]
    },
    {
      "cell_type": "code",
      "execution_count": 6,
      "id": "7b8cb16f",
      "metadata": {
        "collapsed": true,
        "id": "7b8cb16f"
      },
      "outputs": [],
      "source": [
        "train = pd.read_csv('sample_data/train.csv', index_col=0)\n",
        "train_data  = train.copy()"
      ]
    },
    {
      "cell_type": "code",
      "execution_count": 7,
      "id": "f6ccb043",
      "metadata": {
        "id": "f6ccb043"
      },
      "outputs": [],
      "source": [
        "test = pd.read_csv('sample_data/test.csv', index_col=0)\n",
        "test_data = test.copy()"
      ]
    },
    {
      "cell_type": "code",
      "execution_count": 7,
      "id": "8e32de22",
      "metadata": {
        "id": "8e32de22"
      },
      "outputs": [],
      "source": []
    },
    {
      "cell_type": "code",
      "execution_count": 8,
      "id": "0ab735e8",
      "metadata": {
        "id": "0ab735e8",
        "collapsed": true
      },
      "outputs": [],
      "source": [
        "# Доля тествой во всей выборке\n",
        "#sum(all_data['lost_id'].notnull()) / all_data['lost_id'].shape[0]"
      ]
    },
    {
      "cell_type": "markdown",
      "source": [
        "# Разведочный анализ данных (англ. exploratory data analysis, EDA)"
      ],
      "metadata": {
        "id": "L2RhnX-ak_k3"
      },
      "id": "L2RhnX-ak_k3"
    },
    {
      "cell_type": "code",
      "execution_count": 9,
      "id": "c425808b",
      "metadata": {
        "id": "c425808b"
      },
      "outputs": [],
      "source": [
        "train_data['ts'] = pd.to_datetime(train_data['ts'])\n",
        "test_data['ts'] = pd.to_datetime(test_data['ts'])\n",
        "test['ts'] = pd.to_datetime(test['ts'])\n",
        "all_data = pd.concat([train_data, test_data], axis=0)"
      ]
    },
    {
      "cell_type": "code",
      "source": [
        "train_data.info()\n",
        "#Нулевый значений нет"
      ],
      "metadata": {
        "colab": {
          "base_uri": "https://localhost:8080/"
        },
        "collapsed": true,
        "id": "UaDsh59bmcwF",
        "outputId": "94e27b3a-4219-4bb1-f86d-43a5d4697d9d"
      },
      "id": "UaDsh59bmcwF",
      "execution_count": 10,
      "outputs": [
        {
          "output_type": "stream",
          "name": "stdout",
          "text": [
            "<class 'pandas.core.frame.DataFrame'>\n",
            "Index: 35172 entries, 0 to 37516\n",
            "Data columns (total 3 columns):\n",
            " #   Column   Non-Null Count  Dtype         \n",
            "---  ------   --------------  -----         \n",
            " 0   user_id  35172 non-null  int64         \n",
            " 1   ts       35172 non-null  datetime64[ns]\n",
            " 2   gate_id  35172 non-null  int64         \n",
            "dtypes: datetime64[ns](1), int64(2)\n",
            "memory usage: 1.1 MB\n"
          ]
        }
      ]
    },
    {
      "cell_type": "code",
      "source": [
        "train_data.describe()\n",
        "#Каких-то аномалей нет"
      ],
      "metadata": {
        "colab": {
          "base_uri": "https://localhost:8080/",
          "height": 300
        },
        "collapsed": true,
        "id": "VnVf89yiuy1d",
        "outputId": "8ff53b1b-1dc3-471c-e5e9-95c75e0d2e70"
      },
      "id": "VnVf89yiuy1d",
      "execution_count": 11,
      "outputs": [
        {
          "output_type": "execute_result",
          "data": {
            "text/plain": [
              "            user_id                             ts       gate_id\n",
              "count  35172.000000                          35172  35172.000000\n",
              "mean      28.329239  2022-10-04 23:26:53.715881728      6.723473\n",
              "min        0.000000            2022-07-29 09:08:54     -1.000000\n",
              "25%       12.000000            2022-08-25 11:49:47      4.000000\n",
              "50%       29.000000     2022-09-28 13:50:42.500000      5.000000\n",
              "75%       47.000000  2022-11-05 18:06:49.750000128     10.000000\n",
              "max       57.000000            2022-12-31 20:39:31     16.000000\n",
              "std       17.883851                            NaN      3.216261"
            ],
            "text/html": [
              "\n",
              "  <div id=\"df-b4941c74-fb17-4fde-8242-fce45a525a60\" class=\"colab-df-container\">\n",
              "    <div>\n",
              "<style scoped>\n",
              "    .dataframe tbody tr th:only-of-type {\n",
              "        vertical-align: middle;\n",
              "    }\n",
              "\n",
              "    .dataframe tbody tr th {\n",
              "        vertical-align: top;\n",
              "    }\n",
              "\n",
              "    .dataframe thead th {\n",
              "        text-align: right;\n",
              "    }\n",
              "</style>\n",
              "<table border=\"1\" class=\"dataframe\">\n",
              "  <thead>\n",
              "    <tr style=\"text-align: right;\">\n",
              "      <th></th>\n",
              "      <th>user_id</th>\n",
              "      <th>ts</th>\n",
              "      <th>gate_id</th>\n",
              "    </tr>\n",
              "  </thead>\n",
              "  <tbody>\n",
              "    <tr>\n",
              "      <th>count</th>\n",
              "      <td>35172.000000</td>\n",
              "      <td>35172</td>\n",
              "      <td>35172.000000</td>\n",
              "    </tr>\n",
              "    <tr>\n",
              "      <th>mean</th>\n",
              "      <td>28.329239</td>\n",
              "      <td>2022-10-04 23:26:53.715881728</td>\n",
              "      <td>6.723473</td>\n",
              "    </tr>\n",
              "    <tr>\n",
              "      <th>min</th>\n",
              "      <td>0.000000</td>\n",
              "      <td>2022-07-29 09:08:54</td>\n",
              "      <td>-1.000000</td>\n",
              "    </tr>\n",
              "    <tr>\n",
              "      <th>25%</th>\n",
              "      <td>12.000000</td>\n",
              "      <td>2022-08-25 11:49:47</td>\n",
              "      <td>4.000000</td>\n",
              "    </tr>\n",
              "    <tr>\n",
              "      <th>50%</th>\n",
              "      <td>29.000000</td>\n",
              "      <td>2022-09-28 13:50:42.500000</td>\n",
              "      <td>5.000000</td>\n",
              "    </tr>\n",
              "    <tr>\n",
              "      <th>75%</th>\n",
              "      <td>47.000000</td>\n",
              "      <td>2022-11-05 18:06:49.750000128</td>\n",
              "      <td>10.000000</td>\n",
              "    </tr>\n",
              "    <tr>\n",
              "      <th>max</th>\n",
              "      <td>57.000000</td>\n",
              "      <td>2022-12-31 20:39:31</td>\n",
              "      <td>16.000000</td>\n",
              "    </tr>\n",
              "    <tr>\n",
              "      <th>std</th>\n",
              "      <td>17.883851</td>\n",
              "      <td>NaN</td>\n",
              "      <td>3.216261</td>\n",
              "    </tr>\n",
              "  </tbody>\n",
              "</table>\n",
              "</div>\n",
              "    <div class=\"colab-df-buttons\">\n",
              "\n",
              "  <div class=\"colab-df-container\">\n",
              "    <button class=\"colab-df-convert\" onclick=\"convertToInteractive('df-b4941c74-fb17-4fde-8242-fce45a525a60')\"\n",
              "            title=\"Convert this dataframe to an interactive table.\"\n",
              "            style=\"display:none;\">\n",
              "\n",
              "  <svg xmlns=\"http://www.w3.org/2000/svg\" height=\"24px\" viewBox=\"0 -960 960 960\">\n",
              "    <path d=\"M120-120v-720h720v720H120Zm60-500h600v-160H180v160Zm220 220h160v-160H400v160Zm0 220h160v-160H400v160ZM180-400h160v-160H180v160Zm440 0h160v-160H620v160ZM180-180h160v-160H180v160Zm440 0h160v-160H620v160Z\"/>\n",
              "  </svg>\n",
              "    </button>\n",
              "\n",
              "  <style>\n",
              "    .colab-df-container {\n",
              "      display:flex;\n",
              "      gap: 12px;\n",
              "    }\n",
              "\n",
              "    .colab-df-convert {\n",
              "      background-color: #E8F0FE;\n",
              "      border: none;\n",
              "      border-radius: 50%;\n",
              "      cursor: pointer;\n",
              "      display: none;\n",
              "      fill: #1967D2;\n",
              "      height: 32px;\n",
              "      padding: 0 0 0 0;\n",
              "      width: 32px;\n",
              "    }\n",
              "\n",
              "    .colab-df-convert:hover {\n",
              "      background-color: #E2EBFA;\n",
              "      box-shadow: 0px 1px 2px rgba(60, 64, 67, 0.3), 0px 1px 3px 1px rgba(60, 64, 67, 0.15);\n",
              "      fill: #174EA6;\n",
              "    }\n",
              "\n",
              "    .colab-df-buttons div {\n",
              "      margin-bottom: 4px;\n",
              "    }\n",
              "\n",
              "    [theme=dark] .colab-df-convert {\n",
              "      background-color: #3B4455;\n",
              "      fill: #D2E3FC;\n",
              "    }\n",
              "\n",
              "    [theme=dark] .colab-df-convert:hover {\n",
              "      background-color: #434B5C;\n",
              "      box-shadow: 0px 1px 3px 1px rgba(0, 0, 0, 0.15);\n",
              "      filter: drop-shadow(0px 1px 2px rgba(0, 0, 0, 0.3));\n",
              "      fill: #FFFFFF;\n",
              "    }\n",
              "  </style>\n",
              "\n",
              "    <script>\n",
              "      const buttonEl =\n",
              "        document.querySelector('#df-b4941c74-fb17-4fde-8242-fce45a525a60 button.colab-df-convert');\n",
              "      buttonEl.style.display =\n",
              "        google.colab.kernel.accessAllowed ? 'block' : 'none';\n",
              "\n",
              "      async function convertToInteractive(key) {\n",
              "        const element = document.querySelector('#df-b4941c74-fb17-4fde-8242-fce45a525a60');\n",
              "        const dataTable =\n",
              "          await google.colab.kernel.invokeFunction('convertToInteractive',\n",
              "                                                    [key], {});\n",
              "        if (!dataTable) return;\n",
              "\n",
              "        const docLinkHtml = 'Like what you see? Visit the ' +\n",
              "          '<a target=\"_blank\" href=https://colab.research.google.com/notebooks/data_table.ipynb>data table notebook</a>'\n",
              "          + ' to learn more about interactive tables.';\n",
              "        element.innerHTML = '';\n",
              "        dataTable['output_type'] = 'display_data';\n",
              "        await google.colab.output.renderOutput(dataTable, element);\n",
              "        const docLink = document.createElement('div');\n",
              "        docLink.innerHTML = docLinkHtml;\n",
              "        element.appendChild(docLink);\n",
              "      }\n",
              "    </script>\n",
              "  </div>\n",
              "\n",
              "\n",
              "<div id=\"df-7c9ee10e-f7fa-4bf1-ad21-9d7541447ce2\">\n",
              "  <button class=\"colab-df-quickchart\" onclick=\"quickchart('df-7c9ee10e-f7fa-4bf1-ad21-9d7541447ce2')\"\n",
              "            title=\"Suggest charts\"\n",
              "            style=\"display:none;\">\n",
              "\n",
              "<svg xmlns=\"http://www.w3.org/2000/svg\" height=\"24px\"viewBox=\"0 0 24 24\"\n",
              "     width=\"24px\">\n",
              "    <g>\n",
              "        <path d=\"M19 3H5c-1.1 0-2 .9-2 2v14c0 1.1.9 2 2 2h14c1.1 0 2-.9 2-2V5c0-1.1-.9-2-2-2zM9 17H7v-7h2v7zm4 0h-2V7h2v10zm4 0h-2v-4h2v4z\"/>\n",
              "    </g>\n",
              "</svg>\n",
              "  </button>\n",
              "\n",
              "<style>\n",
              "  .colab-df-quickchart {\n",
              "      --bg-color: #E8F0FE;\n",
              "      --fill-color: #1967D2;\n",
              "      --hover-bg-color: #E2EBFA;\n",
              "      --hover-fill-color: #174EA6;\n",
              "      --disabled-fill-color: #AAA;\n",
              "      --disabled-bg-color: #DDD;\n",
              "  }\n",
              "\n",
              "  [theme=dark] .colab-df-quickchart {\n",
              "      --bg-color: #3B4455;\n",
              "      --fill-color: #D2E3FC;\n",
              "      --hover-bg-color: #434B5C;\n",
              "      --hover-fill-color: #FFFFFF;\n",
              "      --disabled-bg-color: #3B4455;\n",
              "      --disabled-fill-color: #666;\n",
              "  }\n",
              "\n",
              "  .colab-df-quickchart {\n",
              "    background-color: var(--bg-color);\n",
              "    border: none;\n",
              "    border-radius: 50%;\n",
              "    cursor: pointer;\n",
              "    display: none;\n",
              "    fill: var(--fill-color);\n",
              "    height: 32px;\n",
              "    padding: 0;\n",
              "    width: 32px;\n",
              "  }\n",
              "\n",
              "  .colab-df-quickchart:hover {\n",
              "    background-color: var(--hover-bg-color);\n",
              "    box-shadow: 0 1px 2px rgba(60, 64, 67, 0.3), 0 1px 3px 1px rgba(60, 64, 67, 0.15);\n",
              "    fill: var(--button-hover-fill-color);\n",
              "  }\n",
              "\n",
              "  .colab-df-quickchart-complete:disabled,\n",
              "  .colab-df-quickchart-complete:disabled:hover {\n",
              "    background-color: var(--disabled-bg-color);\n",
              "    fill: var(--disabled-fill-color);\n",
              "    box-shadow: none;\n",
              "  }\n",
              "\n",
              "  .colab-df-spinner {\n",
              "    border: 2px solid var(--fill-color);\n",
              "    border-color: transparent;\n",
              "    border-bottom-color: var(--fill-color);\n",
              "    animation:\n",
              "      spin 1s steps(1) infinite;\n",
              "  }\n",
              "\n",
              "  @keyframes spin {\n",
              "    0% {\n",
              "      border-color: transparent;\n",
              "      border-bottom-color: var(--fill-color);\n",
              "      border-left-color: var(--fill-color);\n",
              "    }\n",
              "    20% {\n",
              "      border-color: transparent;\n",
              "      border-left-color: var(--fill-color);\n",
              "      border-top-color: var(--fill-color);\n",
              "    }\n",
              "    30% {\n",
              "      border-color: transparent;\n",
              "      border-left-color: var(--fill-color);\n",
              "      border-top-color: var(--fill-color);\n",
              "      border-right-color: var(--fill-color);\n",
              "    }\n",
              "    40% {\n",
              "      border-color: transparent;\n",
              "      border-right-color: var(--fill-color);\n",
              "      border-top-color: var(--fill-color);\n",
              "    }\n",
              "    60% {\n",
              "      border-color: transparent;\n",
              "      border-right-color: var(--fill-color);\n",
              "    }\n",
              "    80% {\n",
              "      border-color: transparent;\n",
              "      border-right-color: var(--fill-color);\n",
              "      border-bottom-color: var(--fill-color);\n",
              "    }\n",
              "    90% {\n",
              "      border-color: transparent;\n",
              "      border-bottom-color: var(--fill-color);\n",
              "    }\n",
              "  }\n",
              "</style>\n",
              "\n",
              "  <script>\n",
              "    async function quickchart(key) {\n",
              "      const quickchartButtonEl =\n",
              "        document.querySelector('#' + key + ' button');\n",
              "      quickchartButtonEl.disabled = true;  // To prevent multiple clicks.\n",
              "      quickchartButtonEl.classList.add('colab-df-spinner');\n",
              "      try {\n",
              "        const charts = await google.colab.kernel.invokeFunction(\n",
              "            'suggestCharts', [key], {});\n",
              "      } catch (error) {\n",
              "        console.error('Error during call to suggestCharts:', error);\n",
              "      }\n",
              "      quickchartButtonEl.classList.remove('colab-df-spinner');\n",
              "      quickchartButtonEl.classList.add('colab-df-quickchart-complete');\n",
              "    }\n",
              "    (() => {\n",
              "      let quickchartButtonEl =\n",
              "        document.querySelector('#df-7c9ee10e-f7fa-4bf1-ad21-9d7541447ce2 button');\n",
              "      quickchartButtonEl.style.display =\n",
              "        google.colab.kernel.accessAllowed ? 'block' : 'none';\n",
              "    })();\n",
              "  </script>\n",
              "</div>\n",
              "    </div>\n",
              "  </div>\n"
            ],
            "application/vnd.google.colaboratory.intrinsic+json": {
              "type": "dataframe",
              "summary": "{\n  \"name\": \"#\\u041a\\u0430\\u043a\\u0438\\u0445-\\u0442\\u043e \\u0430\\u043d\\u043e\\u043c\\u0430\\u043b\\u0435\\u0439 \\u043d\\u0435\\u0442\",\n  \"rows\": 8,\n  \"fields\": [\n    {\n      \"column\": \"user_id\",\n      \"properties\": {\n        \"dtype\": \"number\",\n        \"std\": 12425.535598531074,\n        \"min\": 0.0,\n        \"max\": 35172.0,\n        \"num_unique_values\": 8,\n        \"samples\": [\n          28.329239167519617,\n          47.0,\n          35172.0\n        ],\n        \"semantic_type\": \"\",\n        \"description\": \"\"\n      }\n    },\n    {\n      \"column\": \"ts\",\n      \"properties\": {\n        \"dtype\": \"date\",\n        \"min\": \"1970-01-01 00:00:00.000035172\",\n        \"max\": \"2022-12-31 20:39:31\",\n        \"num_unique_values\": 7,\n        \"samples\": [\n          \"35172\",\n          \"2022-10-04 23:26:53.715881728\",\n          \"2022-11-05 18:06:49.750000128\"\n        ],\n        \"semantic_type\": \"\",\n        \"description\": \"\"\n      }\n    },\n    {\n      \"column\": \"gate_id\",\n      \"properties\": {\n        \"dtype\": \"number\",\n        \"std\": 12432.961583357997,\n        \"min\": -1.0,\n        \"max\": 35172.0,\n        \"num_unique_values\": 8,\n        \"samples\": [\n          6.723473217331969,\n          10.0,\n          35172.0\n        ],\n        \"semantic_type\": \"\",\n        \"description\": \"\"\n      }\n    }\n  ]\n}"
            }
          },
          "metadata": {},
          "execution_count": 11
        }
      ]
    },
    {
      "cell_type": "code",
      "source": [
        "test_data.info()\n",
        "#Нулевый значений нет"
      ],
      "metadata": {
        "colab": {
          "base_uri": "https://localhost:8080/"
        },
        "collapsed": true,
        "id": "x5fkCDMFzVss",
        "outputId": "796ba9d0-f691-4792-fecf-c424a71b028b"
      },
      "id": "x5fkCDMFzVss",
      "execution_count": 12,
      "outputs": [
        {
          "output_type": "stream",
          "name": "stdout",
          "text": [
            "<class 'pandas.core.frame.DataFrame'>\n",
            "Index: 6620 entries, 37518 to 44641\n",
            "Data columns (total 3 columns):\n",
            " #   Column   Non-Null Count  Dtype         \n",
            "---  ------   --------------  -----         \n",
            " 0   ts       6620 non-null   datetime64[ns]\n",
            " 1   gate_id  6620 non-null   int64         \n",
            " 2   lost_id  6620 non-null   int64         \n",
            "dtypes: datetime64[ns](1), int64(2)\n",
            "memory usage: 206.9 KB\n"
          ]
        }
      ]
    },
    {
      "cell_type": "code",
      "source": [
        "test_data.describe()\n",
        "#Каких-то аномалей нет"
      ],
      "metadata": {
        "colab": {
          "base_uri": "https://localhost:8080/",
          "height": 300
        },
        "collapsed": true,
        "id": "xewZ1HgRuI99",
        "outputId": "c663bc58-0e44-404b-98e2-ea1d1658ae58"
      },
      "id": "xewZ1HgRuI99",
      "execution_count": 13,
      "outputs": [
        {
          "output_type": "execute_result",
          "data": {
            "text/plain": [
              "                                  ts      gate_id      lost_id\n",
              "count                           6620  6620.000000  6620.000000\n",
              "mean   2023-01-21 07:41:46.275075584     6.997130    28.348792\n",
              "min              2023-01-03 08:21:00    -1.000000     0.000000\n",
              "25%              2023-01-11 19:11:02     4.000000    12.000000\n",
              "50%       2023-01-20 10:08:23.500000     6.000000    29.000000\n",
              "75%       2023-01-27 19:41:06.500000    10.000000    47.000000\n",
              "max              2023-02-24 19:44:09    15.000000    57.000000\n",
              "std                              NaN     3.340182    17.969900"
            ],
            "text/html": [
              "\n",
              "  <div id=\"df-66cf670a-7b37-4760-a989-f4942b7e6ea8\" class=\"colab-df-container\">\n",
              "    <div>\n",
              "<style scoped>\n",
              "    .dataframe tbody tr th:only-of-type {\n",
              "        vertical-align: middle;\n",
              "    }\n",
              "\n",
              "    .dataframe tbody tr th {\n",
              "        vertical-align: top;\n",
              "    }\n",
              "\n",
              "    .dataframe thead th {\n",
              "        text-align: right;\n",
              "    }\n",
              "</style>\n",
              "<table border=\"1\" class=\"dataframe\">\n",
              "  <thead>\n",
              "    <tr style=\"text-align: right;\">\n",
              "      <th></th>\n",
              "      <th>ts</th>\n",
              "      <th>gate_id</th>\n",
              "      <th>lost_id</th>\n",
              "    </tr>\n",
              "  </thead>\n",
              "  <tbody>\n",
              "    <tr>\n",
              "      <th>count</th>\n",
              "      <td>6620</td>\n",
              "      <td>6620.000000</td>\n",
              "      <td>6620.000000</td>\n",
              "    </tr>\n",
              "    <tr>\n",
              "      <th>mean</th>\n",
              "      <td>2023-01-21 07:41:46.275075584</td>\n",
              "      <td>6.997130</td>\n",
              "      <td>28.348792</td>\n",
              "    </tr>\n",
              "    <tr>\n",
              "      <th>min</th>\n",
              "      <td>2023-01-03 08:21:00</td>\n",
              "      <td>-1.000000</td>\n",
              "      <td>0.000000</td>\n",
              "    </tr>\n",
              "    <tr>\n",
              "      <th>25%</th>\n",
              "      <td>2023-01-11 19:11:02</td>\n",
              "      <td>4.000000</td>\n",
              "      <td>12.000000</td>\n",
              "    </tr>\n",
              "    <tr>\n",
              "      <th>50%</th>\n",
              "      <td>2023-01-20 10:08:23.500000</td>\n",
              "      <td>6.000000</td>\n",
              "      <td>29.000000</td>\n",
              "    </tr>\n",
              "    <tr>\n",
              "      <th>75%</th>\n",
              "      <td>2023-01-27 19:41:06.500000</td>\n",
              "      <td>10.000000</td>\n",
              "      <td>47.000000</td>\n",
              "    </tr>\n",
              "    <tr>\n",
              "      <th>max</th>\n",
              "      <td>2023-02-24 19:44:09</td>\n",
              "      <td>15.000000</td>\n",
              "      <td>57.000000</td>\n",
              "    </tr>\n",
              "    <tr>\n",
              "      <th>std</th>\n",
              "      <td>NaN</td>\n",
              "      <td>3.340182</td>\n",
              "      <td>17.969900</td>\n",
              "    </tr>\n",
              "  </tbody>\n",
              "</table>\n",
              "</div>\n",
              "    <div class=\"colab-df-buttons\">\n",
              "\n",
              "  <div class=\"colab-df-container\">\n",
              "    <button class=\"colab-df-convert\" onclick=\"convertToInteractive('df-66cf670a-7b37-4760-a989-f4942b7e6ea8')\"\n",
              "            title=\"Convert this dataframe to an interactive table.\"\n",
              "            style=\"display:none;\">\n",
              "\n",
              "  <svg xmlns=\"http://www.w3.org/2000/svg\" height=\"24px\" viewBox=\"0 -960 960 960\">\n",
              "    <path d=\"M120-120v-720h720v720H120Zm60-500h600v-160H180v160Zm220 220h160v-160H400v160Zm0 220h160v-160H400v160ZM180-400h160v-160H180v160Zm440 0h160v-160H620v160ZM180-180h160v-160H180v160Zm440 0h160v-160H620v160Z\"/>\n",
              "  </svg>\n",
              "    </button>\n",
              "\n",
              "  <style>\n",
              "    .colab-df-container {\n",
              "      display:flex;\n",
              "      gap: 12px;\n",
              "    }\n",
              "\n",
              "    .colab-df-convert {\n",
              "      background-color: #E8F0FE;\n",
              "      border: none;\n",
              "      border-radius: 50%;\n",
              "      cursor: pointer;\n",
              "      display: none;\n",
              "      fill: #1967D2;\n",
              "      height: 32px;\n",
              "      padding: 0 0 0 0;\n",
              "      width: 32px;\n",
              "    }\n",
              "\n",
              "    .colab-df-convert:hover {\n",
              "      background-color: #E2EBFA;\n",
              "      box-shadow: 0px 1px 2px rgba(60, 64, 67, 0.3), 0px 1px 3px 1px rgba(60, 64, 67, 0.15);\n",
              "      fill: #174EA6;\n",
              "    }\n",
              "\n",
              "    .colab-df-buttons div {\n",
              "      margin-bottom: 4px;\n",
              "    }\n",
              "\n",
              "    [theme=dark] .colab-df-convert {\n",
              "      background-color: #3B4455;\n",
              "      fill: #D2E3FC;\n",
              "    }\n",
              "\n",
              "    [theme=dark] .colab-df-convert:hover {\n",
              "      background-color: #434B5C;\n",
              "      box-shadow: 0px 1px 3px 1px rgba(0, 0, 0, 0.15);\n",
              "      filter: drop-shadow(0px 1px 2px rgba(0, 0, 0, 0.3));\n",
              "      fill: #FFFFFF;\n",
              "    }\n",
              "  </style>\n",
              "\n",
              "    <script>\n",
              "      const buttonEl =\n",
              "        document.querySelector('#df-66cf670a-7b37-4760-a989-f4942b7e6ea8 button.colab-df-convert');\n",
              "      buttonEl.style.display =\n",
              "        google.colab.kernel.accessAllowed ? 'block' : 'none';\n",
              "\n",
              "      async function convertToInteractive(key) {\n",
              "        const element = document.querySelector('#df-66cf670a-7b37-4760-a989-f4942b7e6ea8');\n",
              "        const dataTable =\n",
              "          await google.colab.kernel.invokeFunction('convertToInteractive',\n",
              "                                                    [key], {});\n",
              "        if (!dataTable) return;\n",
              "\n",
              "        const docLinkHtml = 'Like what you see? Visit the ' +\n",
              "          '<a target=\"_blank\" href=https://colab.research.google.com/notebooks/data_table.ipynb>data table notebook</a>'\n",
              "          + ' to learn more about interactive tables.';\n",
              "        element.innerHTML = '';\n",
              "        dataTable['output_type'] = 'display_data';\n",
              "        await google.colab.output.renderOutput(dataTable, element);\n",
              "        const docLink = document.createElement('div');\n",
              "        docLink.innerHTML = docLinkHtml;\n",
              "        element.appendChild(docLink);\n",
              "      }\n",
              "    </script>\n",
              "  </div>\n",
              "\n",
              "\n",
              "<div id=\"df-ab51c33d-7413-4901-8e1b-48a7bdc5fd30\">\n",
              "  <button class=\"colab-df-quickchart\" onclick=\"quickchart('df-ab51c33d-7413-4901-8e1b-48a7bdc5fd30')\"\n",
              "            title=\"Suggest charts\"\n",
              "            style=\"display:none;\">\n",
              "\n",
              "<svg xmlns=\"http://www.w3.org/2000/svg\" height=\"24px\"viewBox=\"0 0 24 24\"\n",
              "     width=\"24px\">\n",
              "    <g>\n",
              "        <path d=\"M19 3H5c-1.1 0-2 .9-2 2v14c0 1.1.9 2 2 2h14c1.1 0 2-.9 2-2V5c0-1.1-.9-2-2-2zM9 17H7v-7h2v7zm4 0h-2V7h2v10zm4 0h-2v-4h2v4z\"/>\n",
              "    </g>\n",
              "</svg>\n",
              "  </button>\n",
              "\n",
              "<style>\n",
              "  .colab-df-quickchart {\n",
              "      --bg-color: #E8F0FE;\n",
              "      --fill-color: #1967D2;\n",
              "      --hover-bg-color: #E2EBFA;\n",
              "      --hover-fill-color: #174EA6;\n",
              "      --disabled-fill-color: #AAA;\n",
              "      --disabled-bg-color: #DDD;\n",
              "  }\n",
              "\n",
              "  [theme=dark] .colab-df-quickchart {\n",
              "      --bg-color: #3B4455;\n",
              "      --fill-color: #D2E3FC;\n",
              "      --hover-bg-color: #434B5C;\n",
              "      --hover-fill-color: #FFFFFF;\n",
              "      --disabled-bg-color: #3B4455;\n",
              "      --disabled-fill-color: #666;\n",
              "  }\n",
              "\n",
              "  .colab-df-quickchart {\n",
              "    background-color: var(--bg-color);\n",
              "    border: none;\n",
              "    border-radius: 50%;\n",
              "    cursor: pointer;\n",
              "    display: none;\n",
              "    fill: var(--fill-color);\n",
              "    height: 32px;\n",
              "    padding: 0;\n",
              "    width: 32px;\n",
              "  }\n",
              "\n",
              "  .colab-df-quickchart:hover {\n",
              "    background-color: var(--hover-bg-color);\n",
              "    box-shadow: 0 1px 2px rgba(60, 64, 67, 0.3), 0 1px 3px 1px rgba(60, 64, 67, 0.15);\n",
              "    fill: var(--button-hover-fill-color);\n",
              "  }\n",
              "\n",
              "  .colab-df-quickchart-complete:disabled,\n",
              "  .colab-df-quickchart-complete:disabled:hover {\n",
              "    background-color: var(--disabled-bg-color);\n",
              "    fill: var(--disabled-fill-color);\n",
              "    box-shadow: none;\n",
              "  }\n",
              "\n",
              "  .colab-df-spinner {\n",
              "    border: 2px solid var(--fill-color);\n",
              "    border-color: transparent;\n",
              "    border-bottom-color: var(--fill-color);\n",
              "    animation:\n",
              "      spin 1s steps(1) infinite;\n",
              "  }\n",
              "\n",
              "  @keyframes spin {\n",
              "    0% {\n",
              "      border-color: transparent;\n",
              "      border-bottom-color: var(--fill-color);\n",
              "      border-left-color: var(--fill-color);\n",
              "    }\n",
              "    20% {\n",
              "      border-color: transparent;\n",
              "      border-left-color: var(--fill-color);\n",
              "      border-top-color: var(--fill-color);\n",
              "    }\n",
              "    30% {\n",
              "      border-color: transparent;\n",
              "      border-left-color: var(--fill-color);\n",
              "      border-top-color: var(--fill-color);\n",
              "      border-right-color: var(--fill-color);\n",
              "    }\n",
              "    40% {\n",
              "      border-color: transparent;\n",
              "      border-right-color: var(--fill-color);\n",
              "      border-top-color: var(--fill-color);\n",
              "    }\n",
              "    60% {\n",
              "      border-color: transparent;\n",
              "      border-right-color: var(--fill-color);\n",
              "    }\n",
              "    80% {\n",
              "      border-color: transparent;\n",
              "      border-right-color: var(--fill-color);\n",
              "      border-bottom-color: var(--fill-color);\n",
              "    }\n",
              "    90% {\n",
              "      border-color: transparent;\n",
              "      border-bottom-color: var(--fill-color);\n",
              "    }\n",
              "  }\n",
              "</style>\n",
              "\n",
              "  <script>\n",
              "    async function quickchart(key) {\n",
              "      const quickchartButtonEl =\n",
              "        document.querySelector('#' + key + ' button');\n",
              "      quickchartButtonEl.disabled = true;  // To prevent multiple clicks.\n",
              "      quickchartButtonEl.classList.add('colab-df-spinner');\n",
              "      try {\n",
              "        const charts = await google.colab.kernel.invokeFunction(\n",
              "            'suggestCharts', [key], {});\n",
              "      } catch (error) {\n",
              "        console.error('Error during call to suggestCharts:', error);\n",
              "      }\n",
              "      quickchartButtonEl.classList.remove('colab-df-spinner');\n",
              "      quickchartButtonEl.classList.add('colab-df-quickchart-complete');\n",
              "    }\n",
              "    (() => {\n",
              "      let quickchartButtonEl =\n",
              "        document.querySelector('#df-ab51c33d-7413-4901-8e1b-48a7bdc5fd30 button');\n",
              "      quickchartButtonEl.style.display =\n",
              "        google.colab.kernel.accessAllowed ? 'block' : 'none';\n",
              "    })();\n",
              "  </script>\n",
              "</div>\n",
              "    </div>\n",
              "  </div>\n"
            ],
            "application/vnd.google.colaboratory.intrinsic+json": {
              "type": "dataframe",
              "summary": "{\n  \"name\": \"#\\u041a\\u0430\\u043a\\u0438\\u0445-\\u0442\\u043e \\u0430\\u043d\\u043e\\u043c\\u0430\\u043b\\u0435\\u0439 \\u043d\\u0435\\u0442\",\n  \"rows\": 8,\n  \"fields\": [\n    {\n      \"column\": \"ts\",\n      \"properties\": {\n        \"dtype\": \"date\",\n        \"min\": \"1970-01-01 00:00:00.000006620\",\n        \"max\": \"2023-02-24 19:44:09\",\n        \"num_unique_values\": 7,\n        \"samples\": [\n          \"6620\",\n          \"2023-01-21 07:41:46.275075584\",\n          \"2023-01-27 19:41:06.500000\"\n        ],\n        \"semantic_type\": \"\",\n        \"description\": \"\"\n      }\n    },\n    {\n      \"column\": \"gate_id\",\n      \"properties\": {\n        \"dtype\": \"number\",\n        \"std\": 2338.288878079892,\n        \"min\": -1.0,\n        \"max\": 6620.0,\n        \"num_unique_values\": 8,\n        \"samples\": [\n          6.997129909365559,\n          10.0,\n          6620.0\n        ],\n        \"semantic_type\": \"\",\n        \"description\": \"\"\n      }\n    },\n    {\n      \"column\": \"lost_id\",\n      \"properties\": {\n        \"dtype\": \"number\",\n        \"std\": 2330.9321183236157,\n        \"min\": 0.0,\n        \"max\": 6620.0,\n        \"num_unique_values\": 8,\n        \"samples\": [\n          28.3487915407855,\n          47.0,\n          6620.0\n        ],\n        \"semantic_type\": \"\",\n        \"description\": \"\"\n      }\n    }\n  ]\n}"
            }
          },
          "metadata": {},
          "execution_count": 13
        }
      ]
    },
    {
      "cell_type": "code",
      "source": [
        "duplicates = train_data.duplicated()\n",
        "print(duplicates)\n",
        "# Дубликатов нет"
      ],
      "metadata": {
        "colab": {
          "base_uri": "https://localhost:8080/"
        },
        "collapsed": true,
        "id": "C0IYSfHAun80",
        "outputId": "14e2e0cb-1e22-43b2-a5bf-78b4bd82953f"
      },
      "id": "C0IYSfHAun80",
      "execution_count": 14,
      "outputs": [
        {
          "output_type": "stream",
          "name": "stdout",
          "text": [
            "0        False\n",
            "1        False\n",
            "3        False\n",
            "4        False\n",
            "5        False\n",
            "         ...  \n",
            "37512    False\n",
            "37513    False\n",
            "37514    False\n",
            "37515    False\n",
            "37516    False\n",
            "Length: 35172, dtype: bool\n"
          ]
        }
      ]
    },
    {
      "cell_type": "code",
      "source": [
        "duplicates = test_data.duplicated()\n",
        "print(duplicates)\n",
        "# Дубликатов нет"
      ],
      "metadata": {
        "colab": {
          "base_uri": "https://localhost:8080/"
        },
        "collapsed": true,
        "id": "8Mo2xYCOusDE",
        "outputId": "6f69048c-c11c-4700-c728-bd49f2b203db"
      },
      "id": "8Mo2xYCOusDE",
      "execution_count": 15,
      "outputs": [
        {
          "output_type": "stream",
          "name": "stdout",
          "text": [
            "37518    False\n",
            "37520    False\n",
            "37521    False\n",
            "37522    False\n",
            "37523    False\n",
            "         ...  \n",
            "44637    False\n",
            "44638    False\n",
            "44639    False\n",
            "44640    False\n",
            "44641    False\n",
            "Length: 6620, dtype: bool\n"
          ]
        }
      ]
    },
    {
      "cell_type": "code",
      "source": [
        "plt.figure()\n",
        "plt.xticks(rotation='vertical')\n",
        "all_data['ts'].hist(bins=40)\n",
        "test['ts'].hist(bins=10)"
      ],
      "metadata": {
        "colab": {
          "base_uri": "https://localhost:8080/",
          "height": 495
        },
        "collapsed": true,
        "id": "gOZgPC4huwdl",
        "outputId": "02427168-77bf-4607-887b-ae0584c188c1"
      },
      "id": "gOZgPC4huwdl",
      "execution_count": 16,
      "outputs": [
        {
          "output_type": "execute_result",
          "data": {
            "text/plain": [
              "<Axes: >"
            ]
          },
          "metadata": {},
          "execution_count": 16
        },
        {
          "output_type": "display_data",
          "data": {
            "text/plain": [
              "<Figure size 640x480 with 1 Axes>"
            ],
            "image/png": "[encoded data removed]"
          },
          "metadata": {}
        }
      ]
    },
    {
      "cell_type": "code",
      "execution_count": 17,
      "id": "99610ffc",
      "metadata": {
        "colab": {
          "base_uri": "https://localhost:8080/"
        },
        "id": "99610ffc",
        "outputId": "136983f3-6fbd-49cc-e069-e2f03714685d"
      },
      "outputs": [
        {
          "output_type": "execute_result",
          "data": {
            "text/plain": [
              "34"
            ]
          },
          "metadata": {},
          "execution_count": 17
        }
      ],
      "source": [
        "all_data['lost_id'].value_counts().count()"
      ]
    },
    {
      "cell_type": "markdown",
      "source": [
        "# Гипотеза\n",
        "Предположим что мы можем найти перепутанные ID пользователяей создав модель на основе признаков учитывающий поведение сотрудника в течение времени года. Такими будут: начало и конец рабочего дня, средняя продолжительность рабочего дня, последний и первый день месяца, самые посещаемые дни сотрудниками в месяц(предпологае что это дни зарплаты и аванса), выходные и праздничные дни, самые частые и в среднем часы продолжительности рабочего дня, час, число месяца, месяц, квартал, год, количество отработаных часов за выбранный период. Также учтем самый часто проходимый турникет, и последовательности турникетов, которые проходит сотрудник каждый день. Добавим эти признаки в модель.       "
      ],
      "metadata": {
        "id": "oCQDqd5Rd_P-"
      },
      "id": "oCQDqd5Rd_P-"
    },
    {
      "cell_type": "markdown",
      "id": "2566aeff",
      "metadata": {
        "id": "2566aeff"
      },
      "source": [
        "# Создание новых признаков данных\n",
        "Создадим новые признаки на основе гипотезы"
      ]
    },
    {
      "cell_type": "markdown",
      "source": [
        "Добавими в таблицы тренировочных и тестовых данных следующие признаки\n",
        "\n",
        "\n",
        "*    hour - час прохода ч/з турникет, так как разные люди могут приходить и уходить в разное время\n",
        "*    day - число месяца прохода ч/з турникет, так как люди могут работать в разные дни\n",
        "*   month - месяц прохода ч/з турникет, так как люди могут работать в разные месяцы\n",
        "*   dayofweek - день недели прохода ч/з турникет, так как люди могут работать в разные дни недели\n",
        "*   quarter - квартал прохода ч/з турникет, так как люди могут работать в разные дни недели\n",
        "*   year - год прохода ч/з турникет, так как люди могут работать в разные дни недели\n",
        "\n",
        "\n"
      ],
      "metadata": {
        "id": "zgTFJ0-jnOML"
      },
      "id": "zgTFJ0-jnOML"
    },
    {
      "cell_type": "code",
      "execution_count": 18,
      "id": "ff7317ba",
      "metadata": {
        "id": "ff7317ba"
      },
      "outputs": [],
      "source": [
        "train_data['hour'] = train_data['ts'].dt.hour.values\n",
        "test_data['hour'] = test_data['ts'].dt.hour.values"
      ]
    },
    {
      "cell_type": "code",
      "execution_count": 19,
      "id": "35f8f368",
      "metadata": {
        "id": "35f8f368"
      },
      "outputs": [],
      "source": [
        "train_data['day'] = train_data['ts'].dt.day.values\n",
        "test_data['day'] = test_data['ts'].dt.day.values"
      ]
    },
    {
      "cell_type": "code",
      "execution_count": 20,
      "id": "bc229b52",
      "metadata": {
        "id": "bc229b52"
      },
      "outputs": [],
      "source": [
        "train_data['month'] = train_data['ts'].dt.month.values\n",
        "test_data['month'] = test_data['ts'].dt.month.values"
      ]
    },
    {
      "cell_type": "code",
      "execution_count": 21,
      "id": "92a985eb",
      "metadata": {
        "id": "92a985eb"
      },
      "outputs": [],
      "source": [
        "train_data['dayofweek'] = train_data['ts'].dt.dayofweek.values\n",
        "test_data['dayofweek'] = test_data['ts'].dt.dayofweek.values"
      ]
    },
    {
      "cell_type": "code",
      "source": [
        "train_data['quarter']  = train_data['ts'].dt.quarter.values\n",
        "test_data['quarter']  = test_data['ts'].dt.quarter.values"
      ],
      "metadata": {
        "id": "e4vn4H0U0SkO"
      },
      "id": "e4vn4H0U0SkO",
      "execution_count": 22,
      "outputs": []
    },
    {
      "cell_type": "code",
      "source": [
        "train_data['year'] = train_data['ts'].dt.year.values\n",
        "test_data['year'] = test_data['ts'].dt.year.values"
      ],
      "metadata": {
        "id": "6V3gxJlp0lXm"
      },
      "id": "6V3gxJlp0lXm",
      "execution_count": 23,
      "outputs": []
    },
    {
      "cell_type": "code",
      "execution_count": 24,
      "id": "z0AWfHCMxEHa",
      "metadata": {
        "id": "z0AWfHCMxEHa"
      },
      "outputs": [],
      "source": [
        "#Количество проведенных дней на работе каждым сотрудником\n",
        "train_data[\"year_month_day\"] = train_data[\"ts\"].dt.to_period(\"D\")\n",
        "train_data['count_work_days']  = train_data.groupby('user_id')['year_month_day'].transform('count')\n",
        "test_data[\"year_month_day\"] = test_data[\"ts\"].dt.to_period(\"D\")\n",
        "test_data['count_work_days']  = test_data.groupby('lost_id')['year_month_day'].transform('count')"
      ]
    },
    {
      "cell_type": "code",
      "source": [
        "#train_data"
      ],
      "metadata": {
        "collapsed": true,
        "id": "VifcPYOjztIk"
      },
      "id": "VifcPYOjztIk",
      "execution_count": 25,
      "outputs": []
    },
    {
      "cell_type": "code",
      "source": [
        "#test_data"
      ],
      "metadata": {
        "collapsed": true,
        "id": "1Dz63YYgzu01"
      },
      "id": "1Dz63YYgzu01",
      "execution_count": 26,
      "outputs": []
    },
    {
      "cell_type": "markdown",
      "source": [
        "Добавим признак выходного дня is_dayoff в тренировочную и тестовую таблицы, так как сотрудник может как работать в выходной так и нет"
      ],
      "metadata": {
        "id": "W_YvxyeqHHq_"
      },
      "id": "W_YvxyeqHHq_"
    },
    {
      "cell_type": "code",
      "source": [
        "def is_dayoff(row):\n",
        "    '''\n",
        "    Возвращает 1 если текущий день - выходной или праздничный, 0 - если будний.\n",
        "    Применяется построчно к DataFrame.\n",
        "    Например, df['dayoff'] = df.apply(is_dayoff, axis=1)\n",
        "\n",
        "    Parameters\n",
        "    ----------\n",
        "    row - строка pandas DataFrame\n",
        "\n",
        "    Return\n",
        "    ------\n",
        "    row - новая запись в pandas DataFrame\n",
        "    '''\n",
        "    #Новогодние выходные\n",
        "    if row['month'] == 1 and row['day'] == 1:\n",
        "        return 1\n",
        "    elif row['month'] == 1 and row['day'] == 2:\n",
        "        return 1\n",
        "    elif row['month'] == 1 and row['day'] == 3:\n",
        "        return 1\n",
        "    elif row['month'] == 1 and row['day'] == 4:\n",
        "        return 1\n",
        "    elif row['month'] == 1 and row['day'] == 5:\n",
        "        return 1\n",
        "    elif row['month'] == 1 and row['day'] == 6:\n",
        "        return 1\n",
        "    # Рождество\n",
        "    elif row['month'] == 1 and row['day'] == 7:\n",
        "        return 1\n",
        "    # День защитника отечества\n",
        "    elif row['month'] == 2 and row['day'] == 23:\n",
        "        return 1\n",
        "     # Международный женский день\n",
        "    elif row['month'] == 3 and row['day'] == 8:\n",
        "        return 1\n",
        "    # Майские праздники\n",
        "    elif row['month'] == 5 and row['day'] == 1:\n",
        "        return 1\n",
        "    elif row['month'] == 5 and row['day'] == 9:\n",
        "        return 1\n",
        "    # День независимости\n",
        "    elif row['month'] == 6 and row['day'] == 12:\n",
        "        return 1\n",
        "    #  День народного единства\n",
        "    elif row['month'] == 11 and row['day'] == 4:\n",
        "        return 1\n",
        "    # Обычные выходные\n",
        "    elif row['dayofweek'] >= 5:\n",
        "        return 1\n",
        "    else:\n",
        "        return 0"
      ],
      "metadata": {
        "id": "OXFfRTGb8q-9"
      },
      "id": "OXFfRTGb8q-9",
      "execution_count": 27,
      "outputs": []
    },
    {
      "cell_type": "code",
      "source": [
        "# Добавление нового столбца признака выходного дня. Значение 1 - первый день, 0 - нет\n",
        "train_data['is_dayoff'] = train_data.apply(is_dayoff, axis=1)\n",
        "test_data['is_dayoff'] = test_data.apply(is_dayoff, axis=1)"
      ],
      "metadata": {
        "collapsed": true,
        "id": "upaV7Zzc-aZf"
      },
      "id": "upaV7Zzc-aZf",
      "execution_count": 28,
      "outputs": []
    },
    {
      "cell_type": "markdown",
      "source": [
        "Добавим признаки последнего дня месяца - last_day_month и первого - first_day_month в тренировочную и тестовую таблицы, так как сотрудник может как работать в этот день так и нет."
      ],
      "metadata": {
        "id": "g6_iUN9SHw2l"
      },
      "id": "g6_iUN9SHw2l"
    },
    {
      "cell_type": "code",
      "source": [
        "# Последний день месяца.\n",
        "def last_day_month(row):\n",
        "# Январь - 31 день  Февраль - 28 дней (29 в високосном) Март - 31 день Апрель - 30 дней\n",
        "# Май - 31 день Июнь - 30 дней Июль - 31 день Август - 31 день Сентябрь - 30 дней\n",
        "# Октябрь - 31 день Ноябрь - 30 дней Декабрь - 31 день\n",
        "  if (((row['month'] == 1 ) or (row['month'] == 3) or  (row['month'] == 5) or  (row['month'] == 7) or (row['month'] == 8) or (row['month'] ==10) or (row['month'] == 12)) and (row['day'] == 31)):\n",
        "        return 1\n",
        "  elif (row['month'] == 2) and (row['day'] == 28 or row['day'] == 29):\n",
        "        return 1\n",
        "  elif (row['month'] == 4 or row['month'] == 6  or row['month'] == 9 or row['month'] == 11) and (row['day'] == 30):\n",
        "        return 1\n",
        "  else:\n",
        "        return 0"
      ],
      "metadata": {
        "id": "Z8A4epiIYXsj"
      },
      "id": "Z8A4epiIYXsj",
      "execution_count": 29,
      "outputs": []
    },
    {
      "cell_type": "code",
      "source": [
        "#Добавление нового столбца признака последнего дня месяца. Значение 1 - последний день, 0 - нет\n",
        "train_data['last_day_month'] = train_data.apply(last_day_month, axis=1)\n",
        "test_data['last_day_month'] = test_data.apply(last_day_month, axis=1)"
      ],
      "metadata": {
        "id": "nafVuUzrYp7s"
      },
      "id": "nafVuUzrYp7s",
      "execution_count": 30,
      "outputs": []
    },
    {
      "cell_type": "code",
      "source": [
        "# Первый день месяца\n",
        "def first_day_month(row):\n",
        "  if row['day'] == 1:\n",
        "        return 1\n",
        "  else:\n",
        "        return 0"
      ],
      "metadata": {
        "id": "RxMsFrCeeo6P"
      },
      "id": "RxMsFrCeeo6P",
      "execution_count": 31,
      "outputs": []
    },
    {
      "cell_type": "code",
      "source": [
        "#Добавление нового столбца признака первого дня месяца\n",
        "train_data['first_day_month'] = train_data.apply(first_day_month, axis=1)\n",
        "test_data['first_day_month'] = test_data.apply(first_day_month, axis=1)"
      ],
      "metadata": {
        "id": "EzAgKdQJfL-m"
      },
      "id": "EzAgKdQJfL-m",
      "execution_count": 32,
      "outputs": []
    },
    {
      "cell_type": "code",
      "source": [
        "#all_data['gate_id_counts'] = all_data['gate_id'].value_counts()\n",
        "#cut_labels_4 = [ 1, 2, 3, 4, 5, 6, 7, 8, 9]\n",
        "#cut_bins = [0, 10, 100, 1000, 2000, 3000, 4000, 5000, 6000, 10000]\n",
        "#all_data['cat_gate_counts'] = pd.cut(all_data['gate_id_counts'],\n",
        "#                       bins=cut_bins,\n",
        "#                       labels=cut_labels_4)\n",
        "#all_data['user_id'].value_counts()"
      ],
      "metadata": {
        "collapsed": true,
        "id": "1o_cjgbmBra7"
      },
      "id": "1o_cjgbmBra7",
      "execution_count": 33,
      "outputs": []
    },
    {
      "cell_type": "markdown",
      "source": [
        "Добавим  в тренировочную и тестовую таблицы данные о поведении сотрудника в течение дня на работе, которые индивидуальны для каждоко человека\n",
        "*   ts_min - начало  рабочего дня\n",
        "*   ts_max - конец рабочего дня\n",
        "*   ts_max_min рабочий день\n",
        "*   ts_count - количество отработотанных дней за выбранный период\n",
        "*   gate_id_list - список номеров турникетов проходимых сотрудником за день"
      ],
      "metadata": {
        "id": "VOI2rDy5C_4_"
      },
      "id": "VOI2rDy5C_4_"
    },
    {
      "cell_type": "code",
      "source": [
        "#all_data"
      ],
      "metadata": {
        "collapsed": true,
        "id": "9Y49zArK9dy9"
      },
      "id": "9Y49zArK9dy9",
      "execution_count": 34,
      "outputs": []
    },
    {
      "cell_type": "code",
      "source": [
        "def max_min(x):\n",
        "    return x.max() - x.min()\n",
        "def list_gate(x):\n",
        "    return  list(x)\n",
        "def mode_1(x):\n",
        "    return x.mode().iloc[0]"
      ],
      "metadata": {
        "id": "KiQVkauv1BfX"
      },
      "id": "KiQVkauv1BfX",
      "execution_count": 35,
      "outputs": []
    },
    {
      "cell_type": "code",
      "source": [
        "# Создадим насколько таблиц с группировками(и объединим их) для нахождения минимального часа и\n",
        "# максимального за день по сотруднику, длинну работчего дня а так же самое частое и среднее значение\n",
        "# этих временных меток и самый частоиспользуемый турникет\n",
        "# для тренировочной таблицы\n",
        "all_data_gr = train_data.groupby(['user_id','year_month_day'], as_index=False).agg({'ts':['min','max', max_min, 'count', mode_1],'gate_id':[list_gate, mode_1]})\n",
        "all_data_gr[('gate_id', 'list_gate')] = all_data_gr[('gate_id', 'list_gate')].apply(lambda x:\"\".join(map(str,x)))\n",
        "all_data_gr[('ts', 'min')] = all_data_gr[('ts', 'min')].dt.hour.values\n",
        "all_data_gr[('ts', 'max')] = all_data_gr[('ts', 'max')].dt.hour.values\n",
        "all_data_gr[('ts', 'mode_1')] = all_data_gr[('ts', 'mode_1')].dt.hour.values\n",
        "all_data_gr[('ts', 'max_min')] = all_data_gr[('ts', 'max_min')].dt.components.hours\n",
        "all_data_gr_mean = all_data_gr.groupby(['user_id'],as_index=False).agg({('ts', 'min'):['mean', mode_1],('ts', 'max'):['mean', mode_1],('ts', 'max_min'):['mean',mode_1]})\n",
        "all_data_gr_mean.columns = ['user_id','ts_min_mean', 'ts_min_mode','ts_max_mean', 'ts_max_mode', 'ts_max_min_mean','ts_max_min_mode']\n",
        "all_data_gr.columns = ['user_id','year_month_day', 'ts_min', 'ts_max', 'ts_max_min', 'ts_count', 'ts_mode', 'gate_id_list','gate_mode']\n",
        "all_data_gr = all_data_gr.merge(all_data_gr_mean, how='inner', left_on='user_id', right_on='user_id')\n"
      ],
      "metadata": {
        "id": "4kvddpzKW2Dm"
      },
      "id": "4kvddpzKW2Dm",
      "execution_count": 36,
      "outputs": []
    },
    {
      "cell_type": "code",
      "source": [
        "all_data_gr.head(1)"
      ],
      "metadata": {
        "colab": {
          "base_uri": "https://localhost:8080/",
          "height": 101
        },
        "id": "Y_SO1hWEYZuC",
        "outputId": "87e1c42a-a1d2-44a9-9ab7-e5685ceaee51"
      },
      "id": "Y_SO1hWEYZuC",
      "execution_count": 37,
      "outputs": [
        {
          "output_type": "execute_result",
          "data": {
            "text/plain": [
              "   user_id year_month_day  ts_min  ts_max  ts_max_min  ts_count  ts_mode  \\\n",
              "0        0     2022-07-29      10      18           8        12       10   \n",
              "\n",
              "      gate_id_list  gate_mode  ts_min_mean  ts_min_mode  ts_max_mean  \\\n",
              "0  331166733101144          3    10.113402           10    18.072165   \n",
              "\n",
              "   ts_max_mode  ts_max_min_mean  ts_max_min_mode  \n",
              "0           18         7.412371                8  "
            ],
            "text/html": [
              "\n",
              "  <div id=\"df-5737f2e0-44a7-496a-b4b3-55244c26f20f\" class=\"colab-df-container\">\n",
              "    <div>\n",
              "<style scoped>\n",
              "    .dataframe tbody tr th:only-of-type {\n",
              "        vertical-align: middle;\n",
              "    }\n",
              "\n",
              "    .dataframe tbody tr th {\n",
              "        vertical-align: top;\n",
              "    }\n",
              "\n",
              "    .dataframe thead th {\n",
              "        text-align: right;\n",
              "    }\n",
              "</style>\n",
              "<table border=\"1\" class=\"dataframe\">\n",
              "  <thead>\n",
              "    <tr style=\"text-align: right;\">\n",
              "      <th></th>\n",
              "      <th>user_id</th>\n",
              "      <th>year_month_day</th>\n",
              "      <th>ts_min</th>\n",
              "      <th>ts_max</th>\n",
              "      <th>ts_max_min</th>\n",
              "      <th>ts_count</th>\n",
              "      <th>ts_mode</th>\n",
              "      <th>gate_id_list</th>\n",
              "      <th>gate_mode</th>\n",
              "      <th>ts_min_mean</th>\n",
              "      <th>ts_min_mode</th>\n",
              "      <th>ts_max_mean</th>\n",
              "      <th>ts_max_mode</th>\n",
              "      <th>ts_max_min_mean</th>\n",
              "      <th>ts_max_min_mode</th>\n",
              "    </tr>\n",
              "  </thead>\n",
              "  <tbody>\n",
              "    <tr>\n",
              "      <th>0</th>\n",
              "      <td>0</td>\n",
              "      <td>2022-07-29</td>\n",
              "      <td>10</td>\n",
              "      <td>18</td>\n",
              "      <td>8</td>\n",
              "      <td>12</td>\n",
              "      <td>10</td>\n",
              "      <td>331166733101144</td>\n",
              "      <td>3</td>\n",
              "      <td>10.113402</td>\n",
              "      <td>10</td>\n",
              "      <td>18.072165</td>\n",
              "      <td>18</td>\n",
              "      <td>7.412371</td>\n",
              "      <td>8</td>\n",
              "    </tr>\n",
              "  </tbody>\n",
              "</table>\n",
              "</div>\n",
              "    <div class=\"colab-df-buttons\">\n",
              "\n",
              "  <div class=\"colab-df-container\">\n",
              "    <button class=\"colab-df-convert\" onclick=\"convertToInteractive('df-5737f2e0-44a7-496a-b4b3-55244c26f20f')\"\n",
              "            title=\"Convert this dataframe to an interactive table.\"\n",
              "            style=\"display:none;\">\n",
              "\n",
              "  <svg xmlns=\"http://www.w3.org/2000/svg\" height=\"24px\" viewBox=\"0 -960 960 960\">\n",
              "    <path d=\"M120-120v-720h720v720H120Zm60-500h600v-160H180v160Zm220 220h160v-160H400v160Zm0 220h160v-160H400v160ZM180-400h160v-160H180v160Zm440 0h160v-160H620v160ZM180-180h160v-160H180v160Zm440 0h160v-160H620v160Z\"/>\n",
              "  </svg>\n",
              "    </button>\n",
              "\n",
              "  <style>\n",
              "    .colab-df-container {\n",
              "      display:flex;\n",
              "      gap: 12px;\n",
              "    }\n",
              "\n",
              "    .colab-df-convert {\n",
              "      background-color: #E8F0FE;\n",
              "      border: none;\n",
              "      border-radius: 50%;\n",
              "      cursor: pointer;\n",
              "      display: none;\n",
              "      fill: #1967D2;\n",
              "      height: 32px;\n",
              "      padding: 0 0 0 0;\n",
              "      width: 32px;\n",
              "    }\n",
              "\n",
              "    .colab-df-convert:hover {\n",
              "      background-color: #E2EBFA;\n",
              "      box-shadow: 0px 1px 2px rgba(60, 64, 67, 0.3), 0px 1px 3px 1px rgba(60, 64, 67, 0.15);\n",
              "      fill: #174EA6;\n",
              "    }\n",
              "\n",
              "    .colab-df-buttons div {\n",
              "      margin-bottom: 4px;\n",
              "    }\n",
              "\n",
              "    [theme=dark] .colab-df-convert {\n",
              "      background-color: #3B4455;\n",
              "      fill: #D2E3FC;\n",
              "    }\n",
              "\n",
              "    [theme=dark] .colab-df-convert:hover {\n",
              "      background-color: #434B5C;\n",
              "      box-shadow: 0px 1px 3px 1px rgba(0, 0, 0, 0.15);\n",
              "      filter: drop-shadow(0px 1px 2px rgba(0, 0, 0, 0.3));\n",
              "      fill: #FFFFFF;\n",
              "    }\n",
              "  </style>\n",
              "\n",
              "    <script>\n",
              "      const buttonEl =\n",
              "        document.querySelector('#df-5737f2e0-44a7-496a-b4b3-55244c26f20f button.colab-df-convert');\n",
              "      buttonEl.style.display =\n",
              "        google.colab.kernel.accessAllowed ? 'block' : 'none';\n",
              "\n",
              "      async function convertToInteractive(key) {\n",
              "        const element = document.querySelector('#df-5737f2e0-44a7-496a-b4b3-55244c26f20f');\n",
              "        const dataTable =\n",
              "          await google.colab.kernel.invokeFunction('convertToInteractive',\n",
              "                                                    [key], {});\n",
              "        if (!dataTable) return;\n",
              "\n",
              "        const docLinkHtml = 'Like what you see? Visit the ' +\n",
              "          '<a target=\"_blank\" href=https://colab.research.google.com/notebooks/data_table.ipynb>data table notebook</a>'\n",
              "          + ' to learn more about interactive tables.';\n",
              "        element.innerHTML = '';\n",
              "        dataTable['output_type'] = 'display_data';\n",
              "        await google.colab.output.renderOutput(dataTable, element);\n",
              "        const docLink = document.createElement('div');\n",
              "        docLink.innerHTML = docLinkHtml;\n",
              "        element.appendChild(docLink);\n",
              "      }\n",
              "    </script>\n",
              "  </div>\n",
              "\n",
              "    </div>\n",
              "  </div>\n"
            ],
            "application/vnd.google.colaboratory.intrinsic+json": {
              "type": "dataframe",
              "variable_name": "all_data_gr",
              "summary": "{\n  \"name\": \"all_data_gr\",\n  \"rows\": 2521,\n  \"fields\": [\n    {\n      \"column\": \"user_id\",\n      \"properties\": {\n        \"dtype\": \"number\",\n        \"std\": 17,\n        \"min\": 0,\n        \"max\": 57,\n        \"num_unique_values\": 56,\n        \"samples\": [\n          0,\n          5,\n          35\n        ],\n        \"semantic_type\": \"\",\n        \"description\": \"\"\n      }\n    },\n    {\n      \"column\": \"year_month_day\",\n      \"properties\": {\n        \"dtype\": \"period[D]\",\n        \"num_unique_values\": 136,\n        \"samples\": [\n          \"2022-11-29\",\n          \"2022-10-11\",\n          \"2022-11-01\"\n        ],\n        \"semantic_type\": \"\",\n        \"description\": \"\"\n      }\n    },\n    {\n      \"column\": \"ts_min\",\n      \"properties\": {\n        \"dtype\": \"int32\",\n        \"num_unique_values\": 15,\n        \"samples\": [\n          12,\n          19,\n          10\n        ],\n        \"semantic_type\": \"\",\n        \"description\": \"\"\n      }\n    },\n    {\n      \"column\": \"ts_max\",\n      \"properties\": {\n        \"dtype\": \"int32\",\n        \"num_unique_values\": 16,\n        \"samples\": [\n          18,\n          15,\n          20\n        ],\n        \"semantic_type\": \"\",\n        \"description\": \"\"\n      }\n    },\n    {\n      \"column\": \"ts_max_min\",\n      \"properties\": {\n        \"dtype\": \"number\",\n        \"std\": 2,\n        \"min\": 0,\n        \"max\": 14,\n        \"num_unique_values\": 15,\n        \"samples\": [\n          11,\n          12,\n          8\n        ],\n        \"semantic_type\": \"\",\n        \"description\": \"\"\n      }\n    },\n    {\n      \"column\": \"ts_count\",\n      \"properties\": {\n        \"dtype\": \"number\",\n        \"std\": 7,\n        \"min\": 1,\n        \"max\": 67,\n        \"num_unique_values\": 52,\n        \"samples\": [\n          28,\n          38,\n          3\n        ],\n        \"semantic_type\": \"\",\n        \"description\": \"\"\n      }\n    },\n    {\n      \"column\": \"ts_mode\",\n      \"properties\": {\n        \"dtype\": \"int32\",\n        \"num_unique_values\": 15,\n        \"samples\": [\n          12,\n          19,\n          10\n        ],\n        \"semantic_type\": \"\",\n        \"description\": \"\"\n      }\n    },\n    {\n      \"column\": \"gate_id_list\",\n      \"properties\": {\n        \"dtype\": \"string\",\n        \"num_unique_values\": 1446,\n        \"samples\": [\n          \"733101144955101144\",\n          \"75510447551044733101144\",\n          \"79551012121313121213136675510447551313121266551044\"\n        ],\n        \"semantic_type\": \"\",\n        \"description\": \"\"\n      }\n    },\n    {\n      \"column\": \"gate_mode\",\n      \"properties\": {\n        \"dtype\": \"number\",\n        \"std\": 2,\n        \"min\": -1,\n        \"max\": 16,\n        \"num_unique_values\": 16,\n        \"samples\": [\n          3,\n          4,\n          15\n        ],\n        \"semantic_type\": \"\",\n        \"description\": \"\"\n      }\n    },\n    {\n      \"column\": \"ts_min_mean\",\n      \"properties\": {\n        \"dtype\": \"number\",\n        \"std\": 1.6247416868917932,\n        \"min\": 8.666666666666666,\n        \"max\": 17.75,\n        \"num_unique_values\": 52,\n        \"samples\": [\n          10.25,\n          11.75,\n          10.59375\n        ],\n        \"semantic_type\": \"\",\n        \"description\": \"\"\n      }\n    },\n    {\n      \"column\": \"ts_min_mode\",\n      \"properties\": {\n        \"dtype\": \"int32\",\n        \"num_unique_values\": 9,\n        \"samples\": [\n          13,\n          9,\n          14\n        ],\n        \"semantic_type\": \"\",\n        \"description\": \"\"\n      }\n    },\n    {\n      \"column\": \"ts_max_mean\",\n      \"properties\": {\n        \"dtype\": \"number\",\n        \"std\": 1.1621126516880258,\n        \"min\": 10.0,\n        \"max\": 19.818181818181817,\n        \"num_unique_values\": 51,\n        \"samples\": [\n          18.648936170212767,\n          17.555555555555557,\n          17.96875\n        ],\n        \"semantic_type\": \"\",\n        \"description\": \"\"\n      }\n    },\n    {\n      \"column\": \"ts_max_mode\",\n      \"properties\": {\n        \"dtype\": \"int32\",\n        \"num_unique_values\": 12,\n        \"samples\": [\n          21,\n          20,\n          18\n        ],\n        \"semantic_type\": \"\",\n        \"description\": \"\"\n      }\n    },\n    {\n      \"column\": \"ts_max_min_mean\",\n      \"properties\": {\n        \"dtype\": \"number\",\n        \"std\": 1.912161326269135,\n        \"min\": 0.0,\n        \"max\": 9.055555555555555,\n        \"num_unique_values\": 50,\n        \"samples\": [\n          7.684782608695652,\n          3.8214285714285716,\n          8.439024390243903\n        ],\n        \"semantic_type\": \"\",\n        \"description\": \"\"\n      }\n    },\n    {\n      \"column\": \"ts_max_min_mode\",\n      \"properties\": {\n        \"dtype\": \"number\",\n        \"std\": 2,\n        \"min\": 0,\n        \"max\": 10,\n        \"num_unique_values\": 11,\n        \"samples\": [\n          7,\n          8,\n          5\n        ],\n        \"semantic_type\": \"\",\n        \"description\": \"\"\n      }\n    }\n  ]\n}"
            }
          },
          "metadata": {},
          "execution_count": 37
        }
      ]
    },
    {
      "cell_type": "code",
      "source": [
        "# Создадим насколько таблиц с группировками(и объединим их) для нахождения минимального часа и\n",
        "# максимального за день по сотруднику, длинну работчего дня а так же самое частое и среднее значение\n",
        "# этих временных меток и самый частоиспользуемый турникет\n",
        "# для тестовой таблицы\n",
        "all_data_gr_t = test_data.groupby(['lost_id','year_month_day'], as_index=False).agg({'ts':['min','max', max_min, 'count', mode_1],'gate_id':[list_gate, mode_1]})\n",
        "all_data_gr_t[('gate_id', 'list_gate')] = all_data_gr_t[('gate_id', 'list_gate')].apply(lambda x:\"\".join(map(str,x)))\n",
        "all_data_gr_t[('ts', 'min')] = all_data_gr_t[('ts', 'min')].dt.hour.values\n",
        "all_data_gr_t[('ts', 'max')] = all_data_gr_t[('ts', 'max')].dt.hour.values\n",
        "all_data_gr_t[('ts', 'mode_1')] = all_data_gr_t[('ts', 'mode_1')].dt.hour.values\n",
        "all_data_gr_t[('ts', 'max_min')] = all_data_gr_t[('ts', 'max_min')].dt.components.hours\n",
        "all_data_gr_mean_t = all_data_gr_t.groupby(['lost_id'],as_index=False).agg({('ts', 'min'):['mean', mode_1],('ts', 'max'):['mean', mode_1],('ts', 'max_min'):['mean',mode_1]})\n",
        "all_data_gr_mean_t.columns = ['lost_id','ts_min_mean', 'ts_min_mode','ts_max_mean', 'ts_max_mode', 'ts_max_min_mean','ts_max_min_mode']\n",
        "all_data_gr_t.columns = ['lost_id','year_month_day', 'ts_min', 'ts_max', 'ts_max_min', 'ts_count', 'ts_mode', 'gate_id_list','gate_mode']\n",
        "all_data_gr_t = all_data_gr_t.merge(all_data_gr_mean_t, how='inner', left_on='lost_id', right_on='lost_id')\n"
      ],
      "metadata": {
        "id": "k30DwTNbaNfE"
      },
      "id": "k30DwTNbaNfE",
      "execution_count": 38,
      "outputs": []
    },
    {
      "cell_type": "code",
      "source": [
        "#all_data_gr"
      ],
      "metadata": {
        "collapsed": true,
        "id": "z8fTEfvWKBmZ"
      },
      "id": "z8fTEfvWKBmZ",
      "execution_count": 39,
      "outputs": []
    },
    {
      "cell_type": "code",
      "source": [
        "#all_data_gr_t"
      ],
      "metadata": {
        "collapsed": true,
        "id": "8j3hfXI49ls0"
      },
      "id": "8j3hfXI49ls0",
      "execution_count": 40,
      "outputs": []
    },
    {
      "cell_type": "code",
      "source": [
        "#Закодируем списки путей прохода через турникеты\n",
        "from sklearn.preprocessing import LabelEncoder\n",
        "encoder = LabelEncoder()\n",
        "encoder.fit(all_data_gr_t['gate_id_list'])\n",
        "all_data_gr_t['gate_id_list'] = encoder.transform(all_data_gr_t['gate_id_list'])\n",
        "encoder.fit(all_data_gr['gate_id_list'])\n",
        "all_data_gr['gate_id_list'] = encoder.transform(all_data_gr['gate_id_list'])"
      ],
      "metadata": {
        "id": "ka1zYvGBV1bH"
      },
      "id": "ka1zYvGBV1bH",
      "execution_count": 41,
      "outputs": []
    },
    {
      "cell_type": "code",
      "source": [
        "#all_data_gr_t"
      ],
      "metadata": {
        "id": "YXW2MLxJQo6p"
      },
      "id": "YXW2MLxJQo6p",
      "execution_count": 42,
      "outputs": []
    },
    {
      "cell_type": "code",
      "source": [
        "#Присоеденим полученные выше данные к тренировочной таблице\n",
        "train_data = train_data.merge(all_data_gr, how='left', left_on=['user_id','year_month_day'], right_on=['user_id','year_month_day'])"
      ],
      "metadata": {
        "id": "RZA0KCOLATct"
      },
      "id": "RZA0KCOLATct",
      "execution_count": 43,
      "outputs": []
    },
    {
      "cell_type": "code",
      "source": [
        "#Присоеденим полученные выше данные к тестовой таблице\n",
        "test_data = test_data.merge(all_data_gr_t, how='left', left_on=['lost_id','year_month_day'], right_on=['lost_id','year_month_day'])"
      ],
      "metadata": {
        "collapsed": true,
        "id": "6UpHIIlgRUHK"
      },
      "id": "6UpHIIlgRUHK",
      "execution_count": 44,
      "outputs": []
    },
    {
      "cell_type": "code",
      "source": [
        "#train_data"
      ],
      "metadata": {
        "collapsed": true,
        "id": "rJjHZKlbBx-F"
      },
      "id": "rJjHZKlbBx-F",
      "execution_count": 45,
      "outputs": []
    },
    {
      "cell_type": "code",
      "source": [
        "#Объединим тренировочную и тестовую выборки\n",
        "all_data = pd.concat([train_data, test_data], axis=0)"
      ],
      "metadata": {
        "id": "PMmVo9gp0SEi"
      },
      "id": "PMmVo9gp0SEi",
      "execution_count": 46,
      "outputs": []
    },
    {
      "cell_type": "markdown",
      "source": [
        " Проанализировав столбец day, увидим что есть число 5 - когда посещений максимальное количество.  Предполжим что это день зарплаты и добавим эту переменную в таблицу с названием salary_day. Значение 1 - это чило месяца 5, иначе 0. А сдледующие три числа 19, 26, 29 с большими и близкими числами дни аванса. Добавим новую переменную по этим числам с названием advance_day. Значение 1 - это числа месяца 19, 26, 29, иначе 0."
      ],
      "metadata": {
        "id": "ERk4b3-bESt7"
      },
      "id": "ERk4b3-bESt7"
    },
    {
      "cell_type": "code",
      "source": [
        "# Проанализировав столбец day, увидим что есть число 5 - когда посещений максимальное количество.\n",
        "# Предполжим что это день зарплаты и добавим эту переменную в таблицу с названием salary_day\n",
        "\n",
        "all_data['day'].value_counts()"
      ],
      "metadata": {
        "colab": {
          "base_uri": "https://localhost:8080/",
          "height": 1000
        },
        "collapsed": true,
        "id": "JtwpCWeq2dUR",
        "outputId": "44bdd1d9-dab9-4bc0-917f-e41d77e9767e"
      },
      "id": "JtwpCWeq2dUR",
      "execution_count": 47,
      "outputs": [
        {
          "output_type": "execute_result",
          "data": {
            "text/plain": [
              "day\n",
              "5     1906\n",
              "19    1677\n",
              "29    1669\n",
              "26    1665\n",
              "1     1588\n",
              "30    1568\n",
              "2     1532\n",
              "3     1532\n",
              "9     1466\n",
              "23    1453\n",
              "22    1415\n",
              "17    1390\n",
              "24    1385\n",
              "12    1373\n",
              "18    1356\n",
              "13    1312\n",
              "7     1311\n",
              "4     1308\n",
              "6     1304\n",
              "16    1301\n",
              "20    1294\n",
              "21    1265\n",
              "15    1252\n",
              "27    1225\n",
              "8     1159\n",
              "10    1150\n",
              "28    1079\n",
              "11    1004\n",
              "14     989\n",
              "25     949\n",
              "31     915\n",
              "Name: count, dtype: int64"
            ],
            "text/html": [
              "<div>\n",
              "<style scoped>\n",
              "    .dataframe tbody tr th:only-of-type {\n",
              "        vertical-align: middle;\n",
              "    }\n",
              "\n",
              "    .dataframe tbody tr th {\n",
              "        vertical-align: top;\n",
              "    }\n",
              "\n",
              "    .dataframe thead th {\n",
              "        text-align: right;\n",
              "    }\n",
              "</style>\n",
              "<table border=\"1\" class=\"dataframe\">\n",
              "  <thead>\n",
              "    <tr style=\"text-align: right;\">\n",
              "      <th></th>\n",
              "      <th>count</th>\n",
              "    </tr>\n",
              "    <tr>\n",
              "      <th>day</th>\n",
              "      <th></th>\n",
              "    </tr>\n",
              "  </thead>\n",
              "  <tbody>\n",
              "    <tr>\n",
              "      <th>5</th>\n",
              "      <td>1906</td>\n",
              "    </tr>\n",
              "    <tr>\n",
              "      <th>19</th>\n",
              "      <td>1677</td>\n",
              "    </tr>\n",
              "    <tr>\n",
              "      <th>29</th>\n",
              "      <td>1669</td>\n",
              "    </tr>\n",
              "    <tr>\n",
              "      <th>26</th>\n",
              "      <td>1665</td>\n",
              "    </tr>\n",
              "    <tr>\n",
              "      <th>1</th>\n",
              "      <td>1588</td>\n",
              "    </tr>\n",
              "    <tr>\n",
              "      <th>30</th>\n",
              "      <td>1568</td>\n",
              "    </tr>\n",
              "    <tr>\n",
              "      <th>2</th>\n",
              "      <td>1532</td>\n",
              "    </tr>\n",
              "    <tr>\n",
              "      <th>3</th>\n",
              "      <td>1532</td>\n",
              "    </tr>\n",
              "    <tr>\n",
              "      <th>9</th>\n",
              "      <td>1466</td>\n",
              "    </tr>\n",
              "    <tr>\n",
              "      <th>23</th>\n",
              "      <td>1453</td>\n",
              "    </tr>\n",
              "    <tr>\n",
              "      <th>22</th>\n",
              "      <td>1415</td>\n",
              "    </tr>\n",
              "    <tr>\n",
              "      <th>17</th>\n",
              "      <td>1390</td>\n",
              "    </tr>\n",
              "    <tr>\n",
              "      <th>24</th>\n",
              "      <td>1385</td>\n",
              "    </tr>\n",
              "    <tr>\n",
              "      <th>12</th>\n",
              "      <td>1373</td>\n",
              "    </tr>\n",
              "    <tr>\n",
              "      <th>18</th>\n",
              "      <td>1356</td>\n",
              "    </tr>\n",
              "    <tr>\n",
              "      <th>13</th>\n",
              "      <td>1312</td>\n",
              "    </tr>\n",
              "    <tr>\n",
              "      <th>7</th>\n",
              "      <td>1311</td>\n",
              "    </tr>\n",
              "    <tr>\n",
              "      <th>4</th>\n",
              "      <td>1308</td>\n",
              "    </tr>\n",
              "    <tr>\n",
              "      <th>6</th>\n",
              "      <td>1304</td>\n",
              "    </tr>\n",
              "    <tr>\n",
              "      <th>16</th>\n",
              "      <td>1301</td>\n",
              "    </tr>\n",
              "    <tr>\n",
              "      <th>20</th>\n",
              "      <td>1294</td>\n",
              "    </tr>\n",
              "    <tr>\n",
              "      <th>21</th>\n",
              "      <td>1265</td>\n",
              "    </tr>\n",
              "    <tr>\n",
              "      <th>15</th>\n",
              "      <td>1252</td>\n",
              "    </tr>\n",
              "    <tr>\n",
              "      <th>27</th>\n",
              "      <td>1225</td>\n",
              "    </tr>\n",
              "    <tr>\n",
              "      <th>8</th>\n",
              "      <td>1159</td>\n",
              "    </tr>\n",
              "    <tr>\n",
              "      <th>10</th>\n",
              "      <td>1150</td>\n",
              "    </tr>\n",
              "    <tr>\n",
              "      <th>28</th>\n",
              "      <td>1079</td>\n",
              "    </tr>\n",
              "    <tr>\n",
              "      <th>11</th>\n",
              "      <td>1004</td>\n",
              "    </tr>\n",
              "    <tr>\n",
              "      <th>14</th>\n",
              "      <td>989</td>\n",
              "    </tr>\n",
              "    <tr>\n",
              "      <th>25</th>\n",
              "      <td>949</td>\n",
              "    </tr>\n",
              "    <tr>\n",
              "      <th>31</th>\n",
              "      <td>915</td>\n",
              "    </tr>\n",
              "  </tbody>\n",
              "</table>\n",
              "</div><br><label><b>dtype:</b> int64</label>"
            ]
          },
          "metadata": {},
          "execution_count": 47
        }
      ]
    },
    {
      "cell_type": "code",
      "source": [
        "# День зарплаты\n",
        "def salary_day(row):\n",
        "  if row['day'] == 5:\n",
        "        return 1\n",
        "  else:\n",
        "        return 0"
      ],
      "metadata": {
        "id": "83tk4RrX4GEe"
      },
      "id": "83tk4RrX4GEe",
      "execution_count": 48,
      "outputs": []
    },
    {
      "cell_type": "code",
      "source": [
        "# День аванса\n",
        "def advance_day(row):\n",
        "  if (row['day'] == 19) or (row['day'] == 29) or  (row['day'] == 26):\n",
        "        return 1\n",
        "  else:\n",
        "        return 0"
      ],
      "metadata": {
        "id": "15AnFOts4S1l"
      },
      "id": "15AnFOts4S1l",
      "execution_count": 49,
      "outputs": []
    },
    {
      "cell_type": "code",
      "source": [
        "# Добавление новых признаков зарплаты salary_day и аванса advance_day в общую таблицу all_data\n",
        "all_data['salary_day'] = all_data.apply(salary_day, axis=1)\n",
        "all_data['advance_day'] = all_data.apply(advance_day, axis=1)"
      ],
      "metadata": {
        "id": "srowRIIu3tCf"
      },
      "id": "srowRIIu3tCf",
      "execution_count": 50,
      "outputs": []
    },
    {
      "cell_type": "code",
      "source": [
        "#all_data = all_data.assign(b_dya_8 = [1 if i < 9.0 else 0 for i in all_data['ts_min_mean']])\n",
        "#all_data = all_data.assign(b_dya_9 = [1 if i < 10.0 else 0 for i in all_data['ts_min_mean']])\n",
        "#all_data = all_data.assign(b_dya_10 = [1 if i < 11.0 else 0 for i in all_data['ts_min_mean']])\n",
        "#all_data = all_data.assign(b_dya_10 = [1 if i < 12.0 else 0 for i in all_data['ts_min_mean']])"
      ],
      "metadata": {
        "id": "d-r4w0iRkj9o"
      },
      "id": "d-r4w0iRkj9o",
      "execution_count": 51,
      "outputs": []
    },
    {
      "cell_type": "code",
      "source": [
        "#all_data.hist(figsize=(9,9), bins=20, grid=False)\n",
        "#plt.tight_layout()"
      ],
      "metadata": {
        "collapsed": true,
        "id": "dOBCAZy7t9Hs"
      },
      "id": "dOBCAZy7t9Hs",
      "execution_count": 52,
      "outputs": []
    },
    {
      "cell_type": "code",
      "source": [
        "#all_data.loc[(all_data['user_id'] == 0)][['dayofweek']].head(12)"
      ],
      "metadata": {
        "collapsed": true,
        "id": "lIUNrWD31Yzn"
      },
      "id": "lIUNrWD31Yzn",
      "execution_count": 53,
      "outputs": []
    },
    {
      "cell_type": "code",
      "execution_count": 54,
      "id": "p5tqA5e4VT9K",
      "metadata": {
        "colab": {
          "base_uri": "https://localhost:8080/"
        },
        "id": "p5tqA5e4VT9K",
        "outputId": "21576c91-0008-474a-bd3b-8a307575abdb",
        "collapsed": true
      },
      "outputs": [
        {
          "output_type": "execute_result",
          "data": {
            "text/plain": [
              "['user_id',\n",
              " 'ts',\n",
              " 'gate_id',\n",
              " 'hour',\n",
              " 'day',\n",
              " 'month',\n",
              " 'dayofweek',\n",
              " 'quarter',\n",
              " 'year',\n",
              " 'year_month_day',\n",
              " 'count_work_days',\n",
              " 'is_dayoff',\n",
              " 'last_day_month',\n",
              " 'first_day_month',\n",
              " 'ts_min',\n",
              " 'ts_max',\n",
              " 'ts_max_min',\n",
              " 'ts_count',\n",
              " 'ts_mode',\n",
              " 'gate_id_list',\n",
              " 'gate_mode',\n",
              " 'ts_min_mean',\n",
              " 'ts_min_mode',\n",
              " 'ts_max_mean',\n",
              " 'ts_max_mode',\n",
              " 'ts_max_min_mean',\n",
              " 'ts_max_min_mode',\n",
              " 'lost_id',\n",
              " 'salary_day',\n",
              " 'advance_day']"
            ]
          },
          "metadata": {},
          "execution_count": 54
        }
      ],
      "source": [
        "#Список всех колонок\n",
        "list(all_data.columns)"
      ]
    },
    {
      "cell_type": "code",
      "execution_count": 55,
      "id": "J_0tpqDQ4c-w",
      "metadata": {
        "id": "J_0tpqDQ4c-w"
      },
      "outputs": [],
      "source": [
        "#Занесем в cols_cat нужные признаки\n",
        "cols_cat = [\n",
        " #'user_id',\n",
        " #'ts',\n",
        " #'gate_id',\n",
        " 'hour',\n",
        " #'min',\n",
        " 'day',\n",
        " 'month',\n",
        " 'dayofweek',\n",
        " 'quarter',\n",
        " 'year',\n",
        " #'year_month_day',\n",
        " #'count_work_days',\n",
        " 'is_dayoff',\n",
        " 'last_day_month',\n",
        " 'first_day_month',\n",
        " 'ts_min',\n",
        " 'ts_max',\n",
        " 'ts_max_min',\n",
        " 'ts_count',\n",
        " #'ts_mode',\n",
        " 'gate_id_list',\n",
        " 'gate_mode',\n",
        " 'ts_min_mean',\n",
        " #'ts_min_mode',\n",
        " 'ts_max_mean',\n",
        " #'ts_max_mode',\n",
        " 'ts_max_min_mean',\n",
        " 'ts_max_min_mode',\n",
        " #'lost_id'\n",
        " 'salary_day',\n",
        " 'advance_day'\n",
        "  ]"
      ]
    },
    {
      "cell_type": "markdown",
      "source": [
        "# Анализ данных с новыми признаками"
      ],
      "metadata": {
        "id": "1vPwvc2g11iV"
      },
      "id": "1vPwvc2g11iV"
    },
    {
      "cell_type": "code",
      "source": [
        "all_data[cols_cat].hist(figsize=(9,9), bins=20, grid=False)\n",
        "plt.tight_layout()"
      ],
      "metadata": {
        "id": "LZVAmth01-TO",
        "outputId": "d7a23c05-6979-4ae8-9bd1-b6d0ef16c2c8",
        "colab": {
          "base_uri": "https://localhost:8080/",
          "height": 907
        }
      },
      "id": "LZVAmth01-TO",
      "execution_count": 56,
      "outputs": [
        {
          "output_type": "display_data",
          "data": {
            "text/plain": [
              "<Figure size 900x900 with 25 Axes>"
            ],
            "image/png": "[encoded data removed]"
          },
          "metadata": {}
        }
      ]
    },
    {
      "cell_type": "markdown",
      "source": [
        "#Матрица корреляций\n",
        "Показывает линейную связь между переменными\n",
        "Изменяется от -1 до 1\n",
        "Корреляция - мера только линейной связи"
      ],
      "metadata": {
        "id": "qBFJXQlA7P0W"
      },
      "id": "qBFJXQlA7P0W"
    },
    {
      "cell_type": "code",
      "source": [
        "import seaborn as sns\n",
        "import numpy as np\n",
        "plt.figure(figsize = (10,8))\n",
        "\n",
        "sns.set(font_scale=1)\n",
        "\n",
        "corr_matrix = all_data[cols_cat].corr()\n",
        "corr_matrix = np.round(corr_matrix, 2)\n",
        "corr_matrix[np.abs(corr_matrix) < 0.2] = 0\n",
        "\n",
        "sns.heatmap(corr_matrix, annot=True, linewidths=.5, cmap='coolwarm')\n",
        "\n",
        "plt.title('Correlation matrix')\n",
        "plt.show()\n",
        "# Увидим что квартал и год сильно коллерируют с месяцем, также среднее и мода продолжительности рабочего дня.\n",
        "# Уберем их"
      ],
      "metadata": {
        "id": "E08340vS66t2",
        "outputId": "98c0c28b-950c-4fd9-fe6b-a7501d3ba0c5",
        "colab": {
          "base_uri": "https://localhost:8080/",
          "height": 830
        }
      },
      "id": "E08340vS66t2",
      "execution_count": 57,
      "outputs": [
        {
          "output_type": "display_data",
          "data": {
            "text/plain": [
              "<Figure size 1000x800 with 2 Axes>"
            ],
            "image/png": "[encoded data removed]"
          },
          "metadata": {}
        }
      ]
    },
    {
      "cell_type": "code",
      "source": [
        "cols_cat1 = [\n",
        " #'user_id',\n",
        " #'ts',\n",
        " #'gate_id',\n",
        " 'hour',\n",
        " #'min',\n",
        " 'day',\n",
        " 'month',\n",
        " 'dayofweek',\n",
        " #'quarter',\n",
        " # 'year',\n",
        " #'year_month_day',\n",
        " #'count_work_days',\n",
        " 'is_dayoff',\n",
        " 'last_day_month',\n",
        " 'first_day_month',\n",
        " 'ts_min',\n",
        " 'ts_max',\n",
        " 'ts_max_min',\n",
        " 'ts_count',\n",
        " #'ts_mode',\n",
        " 'gate_id_list',\n",
        " 'gate_mode',\n",
        " 'ts_min_mean',\n",
        " #'ts_min_mode',\n",
        " 'ts_max_mean',\n",
        " #'ts_max_mode',\n",
        " #'ts_max_min_mean',\n",
        " #'ts_max_min_mode',\n",
        " #'lost_id'\n",
        " 'salary_day',\n",
        " 'advance_day'\n",
        "  ]"
      ],
      "metadata": {
        "id": "FXCgjQpa8_wD"
      },
      "id": "FXCgjQpa8_wD",
      "execution_count": 58,
      "outputs": []
    },
    {
      "cell_type": "code",
      "source": [
        "plt.figure(figsize = (10,8))\n",
        "\n",
        "sns.set(font_scale=1)\n",
        "\n",
        "corr_matrix = all_data[cols_cat1].corr()\n",
        "corr_matrix = np.round(corr_matrix, 2)\n",
        "corr_matrix[np.abs(corr_matrix) < 0.2] = 0\n",
        "\n",
        "sns.heatmap(corr_matrix, annot=True, linewidths=.5, cmap='coolwarm')\n",
        "\n",
        "plt.title('Correlation matrix')\n",
        "plt.show()"
      ],
      "metadata": {
        "id": "GLpFzKtn9Phz",
        "outputId": "97517007-5e35-4894-f078-7a780b89b6df",
        "colab": {
          "base_uri": "https://localhost:8080/",
          "height": 811
        }
      },
      "id": "GLpFzKtn9Phz",
      "execution_count": 59,
      "outputs": [
        {
          "output_type": "display_data",
          "data": {
            "text/plain": [
              "<Figure size 1000x800 with 2 Axes>"
            ],
            "image/png": "[encoded data removed]"
          },
          "metadata": {}
        }
      ]
    },
    {
      "cell_type": "markdown",
      "source": [
        "# Выбор модели обучения\n",
        "В качестве додели обучения будем использовать логистическую регрессию, поскольку это относительно простой алгоритм, который требует небольшого количества вычислительных ресурсов и может быть эффективно использован для решения большого количества задач классификации. Логистическая регрессия позволяет понимать, какие переменные влияют на классификацию и каким образом.Работает хорошо на небольших наборах данных: логистическая регрессия показывает хорошие результаты на небольших наборах данных. Небольшая вероятность переобучения. Логистическая регрессия склонна к менее переобучению, поскольку она не имеет множества параметров, которые нужно оптимизировать."
      ],
      "metadata": {
        "id": "FmZIQsrmdDBJ"
      },
      "id": "FmZIQsrmdDBJ"
    },
    {
      "cell_type": "code",
      "source": [],
      "metadata": {
        "id": "EZR21gu7dCk4"
      },
      "id": "EZR21gu7dCk4",
      "execution_count": 59,
      "outputs": []
    },
    {
      "cell_type": "markdown",
      "source": [
        "Подготовка тренировочной, валидационной, тестовой выборки для модели"
      ],
      "metadata": {
        "id": "6r16OHl_fK8V"
      },
      "id": "6r16OHl_fK8V"
    },
    {
      "cell_type": "markdown",
      "id": "460f84ec",
      "metadata": {
        "id": "460f84ec"
      },
      "source": [
        "Val index"
      ]
    },
    {
      "cell_type": "code",
      "execution_count": 60,
      "id": "8638f149",
      "metadata": {
        "id": "8638f149"
      },
      "outputs": [],
      "source": [
        "# Для определения тренировочной и валидационной выборки\n",
        "for_val = all_data[all_data['lost_id'].isnull()]\n",
        "val_index = for_val['ts'] > '2022-11-30'"
      ]
    },
    {
      "cell_type": "code",
      "execution_count": 61,
      "id": "5de435f0",
      "metadata": {
        "colab": {
          "base_uri": "https://localhost:8080/"
        },
        "id": "5de435f0",
        "outputId": "9a65e84c-f202-4dc0-e2e9-b5673218e670"
      },
      "outputs": [
        {
          "output_type": "execute_result",
          "data": {
            "text/plain": [
              "0.18614238598885477"
            ]
          },
          "metadata": {},
          "execution_count": 61
        }
      ],
      "source": [
        "# Доля валидационной выборки\n",
        "sum(val_index) / val_index.shape[0]"
      ]
    },
    {
      "cell_type": "code",
      "execution_count": 62,
      "id": "0dfd2c88",
      "metadata": {
        "id": "0dfd2c88"
      },
      "outputs": [],
      "source": [
        "# Определение тренировочной и валидационной выборки\n",
        "train_idx = all_data['lost_id'].isnull()\n",
        "train = all_data.loc[train_idx]\n",
        "test = all_data.loc[~train_idx]"
      ]
    },
    {
      "cell_type": "code",
      "source": [
        "#test"
      ],
      "metadata": {
        "collapsed": true,
        "id": "EF9HRPBQJp04"
      },
      "id": "EF9HRPBQJp04",
      "execution_count": 63,
      "outputs": []
    },
    {
      "cell_type": "code",
      "execution_count": 64,
      "id": "dc1e270c",
      "metadata": {
        "id": "dc1e270c"
      },
      "outputs": [],
      "source": [
        "#Отбрем данные для тренировки и валидации\n",
        "X = train[~val_index].copy()\n",
        "X_val = train[val_index].copy()\n",
        "\n",
        "y = X['user_id'].astype(int)\n",
        "y_val = X_val['user_id'].astype(int)\n"
      ]
    },
    {
      "cell_type": "code",
      "execution_count": 65,
      "id": "d1ze61oUuWoV",
      "metadata": {
        "id": "d1ze61oUuWoV",
        "collapsed": true
      },
      "outputs": [],
      "source": [
        "# Заполним нулями Nan-зниченияв столбцах\n",
        "X.fillna(0.0, inplace=True)\n",
        "X_val.fillna(0.0, inplace=True)"
      ]
    },
    {
      "cell_type": "code",
      "execution_count": 66,
      "id": "b4b70f4b",
      "metadata": {
        "id": "b4b70f4b"
      },
      "outputs": [],
      "source": [
        "# Выберем только те колонки из таблицы со всеми\n",
        "# созданными признаками (перем. cols_cat), которые необходимы для тренировки модели\n",
        "X = X[cols_cat1]#.astype(int)\n",
        "X_val = X_val[cols_cat1]#.astype(int)"
      ]
    },
    {
      "cell_type": "code",
      "execution_count": 67,
      "id": "f3b2a228",
      "metadata": {
        "id": "f3b2a228"
      },
      "outputs": [],
      "source": [
        "# Сделаем нормирование отдельными скейлерами по X и по X_val, т.к. будущие данные скорее всего изменятся\n",
        "scaler_X = StandardScaler()\n",
        "scaler_X_val = StandardScaler()\n",
        "\n",
        "scaler_X.fit(X)\n",
        "scaler_X_val.fit(X_val)\n",
        "\n",
        "X_scaled = scaler_X.transform(X)\n",
        "X_val_scaled = scaler_X_val.transform(X_val)"
      ]
    },
    {
      "cell_type": "markdown",
      "source": [
        "# Обучение модели"
      ],
      "metadata": {
        "id": "fJoUF7ybfdXK"
      },
      "id": "fJoUF7ybfdXK"
    },
    {
      "cell_type": "code",
      "execution_count": 68,
      "metadata": {
        "id": "XntAhO-mBMfl",
        "colab": {
          "base_uri": "https://localhost:8080/"
        },
        "outputId": "feee287c-612b-4658-acb7-6074ca2c7320"
      },
      "outputs": [
        {
          "output_type": "stream",
          "name": "stderr",
          "text": [
            "/usr/local/lib/python3.11/dist-packages/sklearn/linear_model/_sag.py:348: ConvergenceWarning: The max_iter was reached which means the coef_ did not converge\n",
            "  warnings.warn(\n"
          ]
        }
      ],
      "source": [
        "#Будем использовать логистическую функцию\n",
        "clf = LogisticRegression(random_state=1, solver='saga').fit(X_scaled, y)\n",
        "y_pred = clf.predict(X_scaled)\n",
        "y_val_pred = clf.predict(X_val_scaled)"
      ],
      "id": "XntAhO-mBMfl"
    },
    {
      "cell_type": "code",
      "execution_count": 69,
      "id": "5f29dce4-cf1d-4885-a87f-c499b94e0f2d",
      "metadata": {
        "collapsed": true,
        "id": "5f29dce4-cf1d-4885-a87f-c499b94e0f2d"
      },
      "outputs": [],
      "source": [
        "results = pd.DataFrame(y_val)\n",
        "results['pred'] = y_val_pred\n",
        "#results"
      ]
    },
    {
      "cell_type": "code",
      "execution_count": 70,
      "id": "c4c25521-69ee-437e-9808-0859de6a3434",
      "metadata": {
        "id": "c4c25521-69ee-437e-9808-0859de6a3434",
        "colab": {
          "base_uri": "https://localhost:8080/"
        },
        "outputId": "c9991917-ebaf-492f-e835-82bc3c73430f"
      },
      "outputs": [
        {
          "output_type": "execute_result",
          "data": {
            "text/plain": [
              "(43,)"
            ]
          },
          "metadata": {},
          "execution_count": 70
        }
      ],
      "source": [
        "results['user_id'].unique().shape"
      ]
    },
    {
      "cell_type": "code",
      "execution_count": 71,
      "id": "0628af50-46cc-4455-b660-75eb4beab9b6",
      "metadata": {
        "collapsed": true,
        "id": "0628af50-46cc-4455-b660-75eb4beab9b6"
      },
      "outputs": [],
      "source": [
        "# Предскажем самым частотным user_id на val\n",
        "def mode_1(x):\n",
        "    return x.mode().iloc[0]\n",
        "res = results.groupby('user_id')['pred'].agg([mode_1, 'count'])\n",
        "#display(res)\n",
        "res = res.reset_index();\n",
        "del res['count']"
      ]
    },
    {
      "cell_type": "code",
      "execution_count": 72,
      "id": "d77d9673-efdf-456c-a195-9406fa553d88",
      "metadata": {
        "id": "d77d9673-efdf-456c-a195-9406fa553d88",
        "colab": {
          "base_uri": "https://localhost:8080/"
        },
        "outputId": "4f3b6d66-6e26-435f-9b2c-ff25d5ecddc4"
      },
      "outputs": [
        {
          "output_type": "stream",
          "name": "stdout",
          "text": [
            "correct 18\n",
            "out of 43\n",
            "or 41 %\n"
          ]
        }
      ],
      "source": [
        "print('correct', (res['user_id'] == res['mode_1']).sum())\n",
        "print('out of', res.shape[0])\n",
        "print('or', int((res['user_id'] == res['mode_1']).sum()*100 / res.shape[0]), '%')"
      ]
    },
    {
      "cell_type": "code",
      "execution_count": 73,
      "id": "32049aae",
      "metadata": {
        "id": "32049aae"
      },
      "outputs": [],
      "source": [
        "# Train предсказуемо имеет более высокую метрику\n",
        "results2 = pd.DataFrame(y)\n",
        "results2['pred'] = y_pred\n",
        "res2 = results2.groupby('user_id')['pred'].agg([mode_1]).reset_index()"
      ]
    },
    {
      "cell_type": "code",
      "source": [
        "print('correct', (res2['user_id'] == res2['mode_1']).sum())\n",
        "print('out of', res2.shape[0])\n",
        "print('or', int((res2['user_id'] == res2['mode_1']).sum()*100 / res2.shape[0]), '%')"
      ],
      "metadata": {
        "id": "0BtRwo0sv5Uv",
        "colab": {
          "base_uri": "https://localhost:8080/"
        },
        "outputId": "c446d77d-92dd-4824-9a6e-7eb0e085cf8d"
      },
      "id": "0BtRwo0sv5Uv",
      "execution_count": 74,
      "outputs": [
        {
          "output_type": "stream",
          "name": "stdout",
          "text": [
            "correct 44\n",
            "out of 50\n",
            "or 88 %\n"
          ]
        }
      ]
    },
    {
      "cell_type": "code",
      "execution_count": 75,
      "id": "1ed02347",
      "metadata": {
        "collapsed": true,
        "id": "1ed02347"
      },
      "outputs": [],
      "source": [
        "#test['lost_id']"
      ]
    },
    {
      "cell_type": "code",
      "execution_count": 76,
      "id": "b932d76d",
      "metadata": {
        "id": "b932d76d"
      },
      "outputs": [],
      "source": [
        "X = train.copy()\n",
        "y = X['user_id'].astype(int)\n",
        "X_test = test.copy()"
      ]
    },
    {
      "cell_type": "code",
      "source": [
        "X.fillna(0.0, inplace=True)\n",
        "X_test.fillna(0.0, inplace=True)"
      ],
      "metadata": {
        "id": "7hLJkhpW_uwp"
      },
      "id": "7hLJkhpW_uwp",
      "execution_count": 77,
      "outputs": []
    },
    {
      "cell_type": "code",
      "execution_count": 78,
      "id": "9fc95046",
      "metadata": {
        "id": "9fc95046"
      },
      "outputs": [],
      "source": [
        "X = X[cols_cat].astype(int)\n",
        "X_test = X_test[cols_cat].astype(int)"
      ]
    },
    {
      "cell_type": "code",
      "execution_count": 79,
      "id": "1badba0e",
      "metadata": {
        "id": "1badba0e"
      },
      "outputs": [],
      "source": [
        "# Сделаем нормирование отдельными скейлерами по X и по X_test, т.к. будущие данные скорее всего изменятся\n",
        "\n",
        "scaler_X = StandardScaler()\n",
        "scaler_X_test = StandardScaler()\n",
        "\n",
        "scaler_X.fit(X)\n",
        "scaler_X_test.fit(X_test)\n",
        "\n",
        "X_scaled = scaler_X.transform(X)\n",
        "X_test_scaled = scaler_X_test.transform(X_test)"
      ]
    },
    {
      "cell_type": "markdown",
      "source": [
        "# Обучение модели"
      ],
      "metadata": {
        "id": "TQiuSyKUkQYP"
      },
      "id": "TQiuSyKUkQYP"
    },
    {
      "cell_type": "code",
      "source": [
        "#Будем использовать логистическую функцию\n",
        "clf = LogisticRegression(random_state=1,solver='saga').fit(X_scaled, y)\n",
        "y_pred = clf.predict(X_scaled)\n",
        "y_test_pred = clf.predict(X_test_scaled)"
      ],
      "metadata": {
        "id": "-gekt2GN4CFa",
        "colab": {
          "base_uri": "https://localhost:8080/"
        },
        "outputId": "b19dbb54-c7b2-4bc6-f8ea-1f360710d31c"
      },
      "id": "-gekt2GN4CFa",
      "execution_count": 80,
      "outputs": [
        {
          "output_type": "stream",
          "name": "stderr",
          "text": [
            "/usr/local/lib/python3.11/dist-packages/sklearn/linear_model/_sag.py:348: ConvergenceWarning: The max_iter was reached which means the coef_ did not converge\n",
            "  warnings.warn(\n"
          ]
        }
      ]
    },
    {
      "cell_type": "code",
      "execution_count": 81,
      "id": "a1227e35",
      "metadata": {
        "id": "a1227e35"
      },
      "outputs": [],
      "source": [
        "answer = pd.DataFrame()\n",
        "answer['lost_id'] = test['lost_id']\n",
        "answer['preds'] = y_test_pred"
      ]
    },
    {
      "cell_type": "code",
      "execution_count": 82,
      "id": "ebca54ae",
      "metadata": {
        "id": "ebca54ae"
      },
      "outputs": [],
      "source": [
        "# Предскажем самым частотным user_id\n",
        "submit = pd.DataFrame(answer.groupby('lost_id')['preds'].agg([mode_1]))"
      ]
    },
    {
      "cell_type": "code",
      "execution_count": 83,
      "id": "d936c024",
      "metadata": {
        "id": "d936c024",
        "collapsed": true,
        "colab": {
          "base_uri": "https://localhost:8080/",
          "height": 1000
        },
        "outputId": "6acfa59c-38d6-4b33-ebac-36ac1118a175"
      },
      "outputs": [
        {
          "output_type": "execute_result",
          "data": {
            "text/plain": [
              "         preds\n",
              "lost_id       \n",
              "0           33\n",
              "1            1\n",
              "3           57\n",
              "6           55\n",
              "9           54\n",
              "11           3\n",
              "12          12\n",
              "14          53\n",
              "15          49\n",
              "17          46\n",
              "18          15\n",
              "19           3\n",
              "23          56\n",
              "24          24\n",
              "25          56\n",
              "26           9\n",
              "27          40\n",
              "29          37\n",
              "32          57\n",
              "33          45\n",
              "34          36\n",
              "35          19\n",
              "37          37\n",
              "39           9\n",
              "42          19\n",
              "46          47\n",
              "47          11\n",
              "48           9\n",
              "49          54\n",
              "50          54\n",
              "53          32\n",
              "54          18\n",
              "55          19\n",
              "57          25"
            ],
            "text/html": [
              "\n",
              "  <div id=\"df-c345e068-80ef-4c6f-86de-ecb2249972de\" class=\"colab-df-container\">\n",
              "    <div>\n",
              "<style scoped>\n",
              "    .dataframe tbody tr th:only-of-type {\n",
              "        vertical-align: middle;\n",
              "    }\n",
              "\n",
              "    .dataframe tbody tr th {\n",
              "        vertical-align: top;\n",
              "    }\n",
              "\n",
              "    .dataframe thead th {\n",
              "        text-align: right;\n",
              "    }\n",
              "</style>\n",
              "<table border=\"1\" class=\"dataframe\">\n",
              "  <thead>\n",
              "    <tr style=\"text-align: right;\">\n",
              "      <th></th>\n",
              "      <th>preds</th>\n",
              "    </tr>\n",
              "    <tr>\n",
              "      <th>lost_id</th>\n",
              "      <th></th>\n",
              "    </tr>\n",
              "  </thead>\n",
              "  <tbody>\n",
              "    <tr>\n",
              "      <th>0</th>\n",
              "      <td>33</td>\n",
              "    </tr>\n",
              "    <tr>\n",
              "      <th>1</th>\n",
              "      <td>1</td>\n",
              "    </tr>\n",
              "    <tr>\n",
              "      <th>3</th>\n",
              "      <td>57</td>\n",
              "    </tr>\n",
              "    <tr>\n",
              "      <th>6</th>\n",
              "      <td>55</td>\n",
              "    </tr>\n",
              "    <tr>\n",
              "      <th>9</th>\n",
              "      <td>54</td>\n",
              "    </tr>\n",
              "    <tr>\n",
              "      <th>11</th>\n",
              "      <td>3</td>\n",
              "    </tr>\n",
              "    <tr>\n",
              "      <th>12</th>\n",
              "      <td>12</td>\n",
              "    </tr>\n",
              "    <tr>\n",
              "      <th>14</th>\n",
              "      <td>53</td>\n",
              "    </tr>\n",
              "    <tr>\n",
              "      <th>15</th>\n",
              "      <td>49</td>\n",
              "    </tr>\n",
              "    <tr>\n",
              "      <th>17</th>\n",
              "      <td>46</td>\n",
              "    </tr>\n",
              "    <tr>\n",
              "      <th>18</th>\n",
              "      <td>15</td>\n",
              "    </tr>\n",
              "    <tr>\n",
              "      <th>19</th>\n",
              "      <td>3</td>\n",
              "    </tr>\n",
              "    <tr>\n",
              "      <th>23</th>\n",
              "      <td>56</td>\n",
              "    </tr>\n",
              "    <tr>\n",
              "      <th>24</th>\n",
              "      <td>24</td>\n",
              "    </tr>\n",
              "    <tr>\n",
              "      <th>25</th>\n",
              "      <td>56</td>\n",
              "    </tr>\n",
              "    <tr>\n",
              "      <th>26</th>\n",
              "      <td>9</td>\n",
              "    </tr>\n",
              "    <tr>\n",
              "      <th>27</th>\n",
              "      <td>40</td>\n",
              "    </tr>\n",
              "    <tr>\n",
              "      <th>29</th>\n",
              "      <td>37</td>\n",
              "    </tr>\n",
              "    <tr>\n",
              "      <th>32</th>\n",
              "      <td>57</td>\n",
              "    </tr>\n",
              "    <tr>\n",
              "      <th>33</th>\n",
              "      <td>45</td>\n",
              "    </tr>\n",
              "    <tr>\n",
              "      <th>34</th>\n",
              "      <td>36</td>\n",
              "    </tr>\n",
              "    <tr>\n",
              "      <th>35</th>\n",
              "      <td>19</td>\n",
              "    </tr>\n",
              "    <tr>\n",
              "      <th>37</th>\n",
              "      <td>37</td>\n",
              "    </tr>\n",
              "    <tr>\n",
              "      <th>39</th>\n",
              "      <td>9</td>\n",
              "    </tr>\n",
              "    <tr>\n",
              "      <th>42</th>\n",
              "      <td>19</td>\n",
              "    </tr>\n",
              "    <tr>\n",
              "      <th>46</th>\n",
              "      <td>47</td>\n",
              "    </tr>\n",
              "    <tr>\n",
              "      <th>47</th>\n",
              "      <td>11</td>\n",
              "    </tr>\n",
              "    <tr>\n",
              "      <th>48</th>\n",
              "      <td>9</td>\n",
              "    </tr>\n",
              "    <tr>\n",
              "      <th>49</th>\n",
              "      <td>54</td>\n",
              "    </tr>\n",
              "    <tr>\n",
              "      <th>50</th>\n",
              "      <td>54</td>\n",
              "    </tr>\n",
              "    <tr>\n",
              "      <th>53</th>\n",
              "      <td>32</td>\n",
              "    </tr>\n",
              "    <tr>\n",
              "      <th>54</th>\n",
              "      <td>18</td>\n",
              "    </tr>\n",
              "    <tr>\n",
              "      <th>55</th>\n",
              "      <td>19</td>\n",
              "    </tr>\n",
              "    <tr>\n",
              "      <th>57</th>\n",
              "      <td>25</td>\n",
              "    </tr>\n",
              "  </tbody>\n",
              "</table>\n",
              "</div>\n",
              "    <div class=\"colab-df-buttons\">\n",
              "\n",
              "  <div class=\"colab-df-container\">\n",
              "    <button class=\"colab-df-convert\" onclick=\"convertToInteractive('df-c345e068-80ef-4c6f-86de-ecb2249972de')\"\n",
              "            title=\"Convert this dataframe to an interactive table.\"\n",
              "            style=\"display:none;\">\n",
              "\n",
              "  <svg xmlns=\"http://www.w3.org/2000/svg\" height=\"24px\" viewBox=\"0 -960 960 960\">\n",
              "    <path d=\"M120-120v-720h720v720H120Zm60-500h600v-160H180v160Zm220 220h160v-160H400v160Zm0 220h160v-160H400v160ZM180-400h160v-160H180v160Zm440 0h160v-160H620v160ZM180-180h160v-160H180v160Zm440 0h160v-160H620v160Z\"/>\n",
              "  </svg>\n",
              "    </button>\n",
              "\n",
              "  <style>\n",
              "    .colab-df-container {\n",
              "      display:flex;\n",
              "      gap: 12px;\n",
              "    }\n",
              "\n",
              "    .colab-df-convert {\n",
              "      background-color: #E8F0FE;\n",
              "      border: none;\n",
              "      border-radius: 50%;\n",
              "      cursor: pointer;\n",
              "      display: none;\n",
              "      fill: #1967D2;\n",
              "      height: 32px;\n",
              "      padding: 0 0 0 0;\n",
              "      width: 32px;\n",
              "    }\n",
              "\n",
              "    .colab-df-convert:hover {\n",
              "      background-color: #E2EBFA;\n",
              "      box-shadow: 0px 1px 2px rgba(60, 64, 67, 0.3), 0px 1px 3px 1px rgba(60, 64, 67, 0.15);\n",
              "      fill: #174EA6;\n",
              "    }\n",
              "\n",
              "    .colab-df-buttons div {\n",
              "      margin-bottom: 4px;\n",
              "    }\n",
              "\n",
              "    [theme=dark] .colab-df-convert {\n",
              "      background-color: #3B4455;\n",
              "      fill: #D2E3FC;\n",
              "    }\n",
              "\n",
              "    [theme=dark] .colab-df-convert:hover {\n",
              "      background-color: #434B5C;\n",
              "      box-shadow: 0px 1px 3px 1px rgba(0, 0, 0, 0.15);\n",
              "      filter: drop-shadow(0px 1px 2px rgba(0, 0, 0, 0.3));\n",
              "      fill: #FFFFFF;\n",
              "    }\n",
              "  </style>\n",
              "\n",
              "    <script>\n",
              "      const buttonEl =\n",
              "        document.querySelector('#df-c345e068-80ef-4c6f-86de-ecb2249972de button.colab-df-convert');\n",
              "      buttonEl.style.display =\n",
              "        google.colab.kernel.accessAllowed ? 'block' : 'none';\n",
              "\n",
              "      async function convertToInteractive(key) {\n",
              "        const element = document.querySelector('#df-c345e068-80ef-4c6f-86de-ecb2249972de');\n",
              "        const dataTable =\n",
              "          await google.colab.kernel.invokeFunction('convertToInteractive',\n",
              "                                                    [key], {});\n",
              "        if (!dataTable) return;\n",
              "\n",
              "        const docLinkHtml = 'Like what you see? Visit the ' +\n",
              "          '<a target=\"_blank\" href=https://colab.research.google.com/notebooks/data_table.ipynb>data table notebook</a>'\n",
              "          + ' to learn more about interactive tables.';\n",
              "        element.innerHTML = '';\n",
              "        dataTable['output_type'] = 'display_data';\n",
              "        await google.colab.output.renderOutput(dataTable, element);\n",
              "        const docLink = document.createElement('div');\n",
              "        docLink.innerHTML = docLinkHtml;\n",
              "        element.appendChild(docLink);\n",
              "      }\n",
              "    </script>\n",
              "  </div>\n",
              "\n",
              "\n",
              "<div id=\"df-452255dc-4292-4f33-bbea-4ca8d377154c\">\n",
              "  <button class=\"colab-df-quickchart\" onclick=\"quickchart('df-452255dc-4292-4f33-bbea-4ca8d377154c')\"\n",
              "            title=\"Suggest charts\"\n",
              "            style=\"display:none;\">\n",
              "\n",
              "<svg xmlns=\"http://www.w3.org/2000/svg\" height=\"24px\"viewBox=\"0 0 24 24\"\n",
              "     width=\"24px\">\n",
              "    <g>\n",
              "        <path d=\"M19 3H5c-1.1 0-2 .9-2 2v14c0 1.1.9 2 2 2h14c1.1 0 2-.9 2-2V5c0-1.1-.9-2-2-2zM9 17H7v-7h2v7zm4 0h-2V7h2v10zm4 0h-2v-4h2v4z\"/>\n",
              "    </g>\n",
              "</svg>\n",
              "  </button>\n",
              "\n",
              "<style>\n",
              "  .colab-df-quickchart {\n",
              "      --bg-color: #E8F0FE;\n",
              "      --fill-color: #1967D2;\n",
              "      --hover-bg-color: #E2EBFA;\n",
              "      --hover-fill-color: #174EA6;\n",
              "      --disabled-fill-color: #AAA;\n",
              "      --disabled-bg-color: #DDD;\n",
              "  }\n",
              "\n",
              "  [theme=dark] .colab-df-quickchart {\n",
              "      --bg-color: #3B4455;\n",
              "      --fill-color: #D2E3FC;\n",
              "      --hover-bg-color: #434B5C;\n",
              "      --hover-fill-color: #FFFFFF;\n",
              "      --disabled-bg-color: #3B4455;\n",
              "      --disabled-fill-color: #666;\n",
              "  }\n",
              "\n",
              "  .colab-df-quickchart {\n",
              "    background-color: var(--bg-color);\n",
              "    border: none;\n",
              "    border-radius: 50%;\n",
              "    cursor: pointer;\n",
              "    display: none;\n",
              "    fill: var(--fill-color);\n",
              "    height: 32px;\n",
              "    padding: 0;\n",
              "    width: 32px;\n",
              "  }\n",
              "\n",
              "  .colab-df-quickchart:hover {\n",
              "    background-color: var(--hover-bg-color);\n",
              "    box-shadow: 0 1px 2px rgba(60, 64, 67, 0.3), 0 1px 3px 1px rgba(60, 64, 67, 0.15);\n",
              "    fill: var(--button-hover-fill-color);\n",
              "  }\n",
              "\n",
              "  .colab-df-quickchart-complete:disabled,\n",
              "  .colab-df-quickchart-complete:disabled:hover {\n",
              "    background-color: var(--disabled-bg-color);\n",
              "    fill: var(--disabled-fill-color);\n",
              "    box-shadow: none;\n",
              "  }\n",
              "\n",
              "  .colab-df-spinner {\n",
              "    border: 2px solid var(--fill-color);\n",
              "    border-color: transparent;\n",
              "    border-bottom-color: var(--fill-color);\n",
              "    animation:\n",
              "      spin 1s steps(1) infinite;\n",
              "  }\n",
              "\n",
              "  @keyframes spin {\n",
              "    0% {\n",
              "      border-color: transparent;\n",
              "      border-bottom-color: var(--fill-color);\n",
              "      border-left-color: var(--fill-color);\n",
              "    }\n",
              "    20% {\n",
              "      border-color: transparent;\n",
              "      border-left-color: var(--fill-color);\n",
              "      border-top-color: var(--fill-color);\n",
              "    }\n",
              "    30% {\n",
              "      border-color: transparent;\n",
              "      border-left-color: var(--fill-color);\n",
              "      border-top-color: var(--fill-color);\n",
              "      border-right-color: var(--fill-color);\n",
              "    }\n",
              "    40% {\n",
              "      border-color: transparent;\n",
              "      border-right-color: var(--fill-color);\n",
              "      border-top-color: var(--fill-color);\n",
              "    }\n",
              "    60% {\n",
              "      border-color: transparent;\n",
              "      border-right-color: var(--fill-color);\n",
              "    }\n",
              "    80% {\n",
              "      border-color: transparent;\n",
              "      border-right-color: var(--fill-color);\n",
              "      border-bottom-color: var(--fill-color);\n",
              "    }\n",
              "    90% {\n",
              "      border-color: transparent;\n",
              "      border-bottom-color: var(--fill-color);\n",
              "    }\n",
              "  }\n",
              "</style>\n",
              "\n",
              "  <script>\n",
              "    async function quickchart(key) {\n",
              "      const quickchartButtonEl =\n",
              "        document.querySelector('#' + key + ' button');\n",
              "      quickchartButtonEl.disabled = true;  // To prevent multiple clicks.\n",
              "      quickchartButtonEl.classList.add('colab-df-spinner');\n",
              "      try {\n",
              "        const charts = await google.colab.kernel.invokeFunction(\n",
              "            'suggestCharts', [key], {});\n",
              "      } catch (error) {\n",
              "        console.error('Error during call to suggestCharts:', error);\n",
              "      }\n",
              "      quickchartButtonEl.classList.remove('colab-df-spinner');\n",
              "      quickchartButtonEl.classList.add('colab-df-quickchart-complete');\n",
              "    }\n",
              "    (() => {\n",
              "      let quickchartButtonEl =\n",
              "        document.querySelector('#df-452255dc-4292-4f33-bbea-4ca8d377154c button');\n",
              "      quickchartButtonEl.style.display =\n",
              "        google.colab.kernel.accessAllowed ? 'block' : 'none';\n",
              "    })();\n",
              "  </script>\n",
              "</div>\n",
              "    </div>\n",
              "  </div>\n"
            ],
            "application/vnd.google.colaboratory.intrinsic+json": {
              "type": "dataframe",
              "variable_name": "submit",
              "summary": "{\n  \"name\": \"submit\",\n  \"rows\": 34,\n  \"fields\": [\n    {\n      \"column\": \"lost_id\",\n      \"properties\": {\n        \"dtype\": \"number\",\n        \"std\": 17,\n        \"min\": 0,\n        \"max\": 57,\n        \"num_unique_values\": 34,\n        \"samples\": [\n          26,\n          33,\n          48\n        ],\n        \"semantic_type\": \"\",\n        \"description\": \"\"\n      }\n    },\n    {\n      \"column\": \"preds\",\n      \"properties\": {\n        \"dtype\": \"number\",\n        \"std\": 19,\n        \"min\": 1,\n        \"max\": 57,\n        \"num_unique_values\": 24,\n        \"samples\": [\n          49,\n          45,\n          33\n        ],\n        \"semantic_type\": \"\",\n        \"description\": \"\"\n      }\n    }\n  ]\n}"
            }
          },
          "metadata": {},
          "execution_count": 83
        }
      ],
      "source": [
        "submit.index = submit.index.astype(int)\n",
        "submit.rename(columns={'mode_1':'preds'}, inplace=True)\n",
        "submit"
      ]
    },
    {
      "cell_type": "code",
      "source": [],
      "metadata": {
        "id": "al3ULGd6Fj7v"
      },
      "id": "al3ULGd6Fj7v",
      "execution_count": null,
      "outputs": []
    },
    {
      "cell_type": "code",
      "execution_count": 84,
      "id": "c9842572",
      "metadata": {
        "id": "c9842572",
        "colab": {
          "base_uri": "https://localhost:8080/"
        },
        "outputId": "678f08fd-1825-40fb-dd77-8d84b39dd451"
      },
      "outputs": [
        {
          "output_type": "execute_result",
          "data": {
            "text/plain": [
              "34"
            ]
          },
          "metadata": {},
          "execution_count": 84
        }
      ],
      "source": [
        "submit.shape[0]"
      ]
    },
    {
      "cell_type": "code",
      "execution_count": 85,
      "id": "8a3e9145",
      "metadata": {
        "id": "8a3e9145",
        "colab": {
          "base_uri": "https://localhost:8080/"
        },
        "outputId": "ff25e23b-83f1-4e84-8697-7c69bc7c7581"
      },
      "outputs": [
        {
          "output_type": "stream",
          "name": "stdout",
          "text": [
            "updating: answer.csv (deflated 38%)\n"
          ]
        }
      ],
      "source": [
        "submit.to_csv('answer.csv')\n",
        "! zip answer_base.zip answer.csv\n",
        "\n",
        "# Получится на борде 58, при равенстве весов (что не так), получилось бы 58 / (560/34) = 3.5,\n",
        "# примерно 10% правильных user_id (но наверное больше, т.к. отгадали самые дешёвые). 560 = max в задаче."
      ]
    },
    {
      "cell_type": "markdown",
      "source": [
        "Подбор гиперпараметров для логистической регрессии"
      ],
      "metadata": {
        "id": "Q0R348-___q1"
      },
      "id": "Q0R348-___q1"
    },
    {
      "cell_type": "code",
      "source": [
        "# Grid search cross validation\n",
        "#from sklearn.model_selection import GridSearchCV\n",
        "#from sklearn.linear_model import LogisticRegression\n",
        "#grid={\"C\":np.linspace(1, 100, 5), \"penalty\":[\"l1\",\"l2\"]}# l1 lasso l2 ridge\n",
        "#logreg=LogisticRegression()\n",
        "#logreg_cv=GridSearchCV(logreg,grid,cv=10)\n",
        "#logreg_cv.fit(X_scaled,y)\n",
        "\n",
        "#print(\"tuned hpyerparameters :(best parameters) \",logreg_cv.best_params_)\n",
        "#print(\"accuracy :\",logreg_cv.best_score_)"
      ],
      "metadata": {
        "id": "vpLjeD5B_7a9"
      },
      "id": "vpLjeD5B_7a9",
      "execution_count": null,
      "outputs": []
    },
    {
      "cell_type": "markdown",
      "source": [
        "Вывод о гипотезе.\n",
        " Не подошли признаки год и квартал.\n",
        "В результате тренировки, валидации и модели логистической регрессии на выбранных признаках получилось найти 21 ID сотрудников на вадидационной выборке, 44 на тренировочных данных. Тестовая дала результат 4. Мы может сделать вывод о том что подобранные признаки помогают найти часть утеянных ID. Необходимо еще ислледовать данные чтобы подобрать новые признаки.   "
      ],
      "metadata": {
        "id": "XtSd1LnECMNz"
      },
      "id": "XtSd1LnECMNz"
    },
    {
      "cell_type": "code",
      "execution_count": null,
      "id": "ed9817e7-7fb7-4066-a1a4-45a4695f5e94",
      "metadata": {
        "id": "ed9817e7-7fb7-4066-a1a4-45a4695f5e94"
      },
      "outputs": [],
      "source": []
    }
  ],
  "metadata": {
    "colab": {
      "provenance": []
    },
    "kernelspec": {
      "display_name": "Python 3 (ipykernel)",
      "language": "python",
      "name": "python3"
    },
    "language_info": {
      "codemirror_mode": {
        "name": "ipython",
        "version": 3
      },
      "file_extension": ".py",
      "mimetype": "text/x-python",
      "name": "python",
      "nbconvert_exporter": "python",
      "pygments_lexer": "ipython3",
      "version": "3.12.2"
    }
  },
  "nbformat": 4,
  "nbformat_minor": 5
}